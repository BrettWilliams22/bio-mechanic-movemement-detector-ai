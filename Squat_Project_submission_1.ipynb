{
 "cells": [
  {
   "cell_type": "code",
   "execution_count": 1,
   "metadata": {
    "ExecuteTime": {
     "end_time": "2019-02-17T22:52:47.178308Z",
     "start_time": "2019-02-17T22:52:46.740477Z"
    }
   },
   "outputs": [
    {
     "data": {
      "text/plain": [
       "<Figure size 720x720 with 0 Axes>"
      ]
     },
     "execution_count": 1,
     "metadata": {},
     "output_type": "execute_result"
    },
    {
     "data": {
      "text/plain": [
       "<Figure size 720x720 with 0 Axes>"
      ]
     },
     "metadata": {},
     "output_type": "display_data"
    }
   ],
   "source": [
    "\n",
    "import os\n",
    "import time\n",
    "import numpy as np\n",
    "import pandas as pd\n",
    "import cv2\n",
    "import matplotlib.pyplot as plt\n",
    "%matplotlib inline\n",
    "plt.figure(figsize=[10,10])\n",
    "# plt.imshow(cv2.cvtColor(frameCopy, cv2.COLOR_BGR2RGB))import cv2"
   ]
  },
  {
   "cell_type": "code",
   "execution_count": 2,
   "metadata": {
    "ExecuteTime": {
     "end_time": "2019-02-17T22:52:47.185286Z",
     "start_time": "2019-02-17T22:52:47.179272Z"
    }
   },
   "outputs": [],
   "source": [
    "protoFile = \"C:/Users/romanrosh/openpose-1.4.0-win64-gpu-binaries/models/pose/body_25/pose_deploy.prototxtpose_deploy_linevec_faster_4_stages.prototxt\"\n",
    "weightsFile = \"C:/Users/romanrosh/openpose-1.4.0-win64-gpu-binaries/models/pose/body_25/pose_iter_584000.caffemodel\"\n",
    "nPoints = 25\n",
    "POSE_PAIRS = [[1, 0], [1, 2], [1, 5], [2, 3], [3, 4], [5, 6], [6, 7], [1, 8], [8, 9], [9, 10], [1, 11], [11, 12],\n",
    "              [12, 13], [0, 14], [0, 15], [14, 16], [15, 17],\n",
    "              [10, 11], [8, 12], [12, 13], [13, 14], [1, 0], [0, 15], [0, 16], [16, 18], [2, 17], [5, 18], [14, 19],\n",
    "              [19, 20], [14, 21], [11, 22], [22, 23], [11, 24]]"
   ]
  },
  {
   "cell_type": "markdown",
   "metadata": {},
   "source": [
    "## Load trained VGG network"
   ]
  },
  {
   "cell_type": "code",
   "execution_count": 3,
   "metadata": {
    "ExecuteTime": {
     "end_time": "2019-02-17T22:52:47.279011Z",
     "start_time": "2019-02-17T22:52:47.186253Z"
    }
   },
   "outputs": [
    {
     "ename": "error",
     "evalue": "OpenCV(3.4.1) C:\\Miniconda3\\conda-bld\\opencv-suite_1533128839831\\work\\modules\\dnn\\src\\caffe\\caffe_io.cpp:1119: error: (-2) FAILED: fs.is_open(). Can't open \"C:/Users/romanrosh/openpose-1.4.0-win64-gpu-binaries/models/pose/body_25/pose_deploy.prototxtpose_deploy_linevec_faster_4_stages.prototxt\" in function cv::dnn::ReadProtoFromTextFile\n",
     "output_type": "error",
     "traceback": [
      "\u001b[1;31m---------------------------------------------------------------------------\u001b[0m",
      "\u001b[1;31merror\u001b[0m                                     Traceback (most recent call last)",
      "\u001b[1;32m<ipython-input-3-f575f00549f6>\u001b[0m in \u001b[0;36m<module>\u001b[1;34m()\u001b[0m\n\u001b[1;32m----> 1\u001b[1;33m \u001b[0mnet\u001b[0m \u001b[1;33m=\u001b[0m \u001b[0mcv2\u001b[0m\u001b[1;33m.\u001b[0m\u001b[0mdnn\u001b[0m\u001b[1;33m.\u001b[0m\u001b[0mreadNetFromCaffe\u001b[0m\u001b[1;33m(\u001b[0m\u001b[0mprotoFile\u001b[0m\u001b[1;33m,\u001b[0m \u001b[0mweightsFile\u001b[0m\u001b[1;33m)\u001b[0m\u001b[1;33m\u001b[0m\u001b[0m\n\u001b[0m\u001b[0;32m      2\u001b[0m \u001b[1;33m\u001b[0m\u001b[0m\n\u001b[0;32m      3\u001b[0m \u001b[0minWidth\u001b[0m \u001b[1;33m=\u001b[0m \u001b[1;36m368\u001b[0m\u001b[1;33m\u001b[0m\u001b[0m\n\u001b[0;32m      4\u001b[0m \u001b[0minHeight\u001b[0m \u001b[1;33m=\u001b[0m \u001b[1;36m368\u001b[0m\u001b[1;33m\u001b[0m\u001b[0m\n",
      "\u001b[1;31merror\u001b[0m: OpenCV(3.4.1) C:\\Miniconda3\\conda-bld\\opencv-suite_1533128839831\\work\\modules\\dnn\\src\\caffe\\caffe_io.cpp:1119: error: (-2) FAILED: fs.is_open(). Can't open \"C:/Users/romanrosh/openpose-1.4.0-win64-gpu-binaries/models/pose/body_25/pose_deploy.prototxtpose_deploy_linevec_faster_4_stages.prototxt\" in function cv::dnn::ReadProtoFromTextFile\n"
     ]
    }
   ],
   "source": [
    "net = cv2.dnn.readNetFromCaffe(protoFile, weightsFile)\n",
    "\n",
    "inWidth = 368\n",
    "inHeight = 368\n"
   ]
  },
  {
   "cell_type": "markdown",
   "metadata": {},
   "source": [
    "## Example of image with correct squat form"
   ]
  },
  {
   "cell_type": "code",
   "execution_count": null,
   "metadata": {
    "ExecuteTime": {
     "end_time": "2019-02-17T22:52:47.280006Z",
     "start_time": "2019-02-17T22:52:46.749Z"
    }
   },
   "outputs": [],
   "source": [
    "frame = cv2.imread(\"resized_270_degrees_edited_20190103_155755.jpg\")\n",
    "frameCopy = np.copy(frame)\n",
    "frameWidth = frame.shape[1]\n",
    "frameHeight = frame.shape[0]\n",
    "threshold = 0.1\n",
    "\n",
    "inpBlob = cv2.dnn.blobFromImage(frame, 1.0 / 255, (frameWidth, frameHeight),\n",
    "                          (0, 0, 0), swapRB=False, crop=False)\n",
    "net.setInput(inpBlob)\n",
    "output = net.forward()\n",
    "H = output.shape[2]\n",
    "W = output.shape[3]\n",
    "net.setInput(inpBlob)\n",
    "\n",
    "output = net.forward()\n",
    "H = output.shape[2]\n",
    "W = output.shape[3]\n",
    "\n",
    "points = []\n",
    "\n",
    "for i in range(nPoints):\n",
    "    # confidence map of corresponding body's part.\n",
    "    probMap = output[0, i, :, :]\n",
    "\n",
    "    # Find global maxima of the probMap.\n",
    "    minVal, prob, minLoc, point = cv2.minMaxLoc(probMap)\n",
    "    \n",
    "    # Scale the point to fit on the original image\n",
    "    x = (frameWidth * point[0]) / W\n",
    "    y = (frameHeight * point[1]) / H\n",
    "\n",
    "    if prob > threshold : \n",
    "        cv2.circle(frameCopy, (int(x), int(y)), 8, (0, 255, 255), thickness=-1, lineType=cv2.FILLED)\n",
    "        cv2.putText(frameCopy, \"{}\".format(i), (int(x), int(y)), cv2.FONT_HERSHEY_SIMPLEX, 1, (0, 0, 255), 2, lineType=cv2.LINE_AA)\n",
    "        cv2.circle(frame, (int(x), int(y)), 8, (0, 0, 255), thickness=-1, lineType=cv2.FILLED)\n",
    "\n",
    "        # Add the point to the list if the probability is greater than the threshold\n",
    "        points.append((int(x), int(y)))\n",
    "    else :\n",
    "        points.append(None)\n",
    "\n",
    "# Draw Skeleton\n",
    "for pair in POSE_PAIRS:\n",
    "    partA = pair[0]\n",
    "    partB = pair[1]\n",
    "\n",
    "    if points[partA] and points[partB]:\n",
    "        cv2.line(frame, points[partA], points[partB], (0, 255, 255), 3)\n",
    "\n",
    "\n",
    "plt.figure(figsize=[10,10])\n",
    "plt.imshow(cv2.cvtColor(frame, cv2.COLOR_BGR2RGB))\n"
   ]
  },
  {
   "cell_type": "markdown",
   "metadata": {},
   "source": [
    "## Pass all images through the network to extract joint positions.\n",
    "## Load into dataframe"
   ]
  },
  {
   "cell_type": "code",
   "execution_count": null,
   "metadata": {
    "ExecuteTime": {
     "end_time": "2019-02-17T22:52:47.281000Z",
     "start_time": "2019-02-17T22:52:46.753Z"
    }
   },
   "outputs": [],
   "source": [
    "counter = 0\n",
    "for filename in os.listdir('.'):\n",
    "    try:\n",
    "    \n",
    "        if filename.endswith(\".jpg\") : \n",
    "            print(counter)\n",
    "            frame = cv2.imread(filename)\n",
    "            frameCopy = np.copy(frame)\n",
    "            frameWidth = frame.shape[1]\n",
    "            frameHeight = frame.shape[0]\n",
    "            threshold = 0.1\n",
    "\n",
    "            inpBlob = cv2.dnn.blobFromImage(frame, 1.0 / 255, (inWidth, inHeight),\n",
    "                                      (0, 0, 0), swapRB=False, crop=False)\n",
    "\n",
    "            net.setInput(inpBlob)\n",
    "\n",
    "            output = net.forward()\n",
    "            H = output.shape[2]\n",
    "            W = output.shape[3]\n",
    "\n",
    "            points = []\n",
    "\n",
    "            for i in range(nPoints):\n",
    "                # confidence map of corresponding body's part.\n",
    "                probMap = output[0, i, :, :]\n",
    "\n",
    "                # Find global maxima of the probMap.\n",
    "                minVal, prob, minLoc, point = cv2.minMaxLoc(probMap)\n",
    "\n",
    "                # Scale the point to fit on the original image\n",
    "                x = (frameWidth * point[0]) / W\n",
    "                y = (frameHeight * point[1]) / H\n",
    "\n",
    "                if prob > threshold : \n",
    "                    cv2.circle(frameCopy, (int(x), int(y)), 8, (0, 255, 255), thickness=-1, lineType=cv2.FILLED)\n",
    "                    cv2.putText(frameCopy, \"{}\".format(i), (int(x), int(y)), cv2.FONT_HERSHEY_SIMPLEX, 1, (0, 0, 255), 2, lineType=cv2.LINE_AA)\n",
    "                    cv2.circle(frame, (int(x), int(y)), 8, (0, 0, 255), thickness=-1, lineType=cv2.FILLED)\n",
    "\n",
    "                    # Add the point to the list if the probability is greater than the threshold\n",
    "                    points.append((int(x), int(y)))\n",
    "                else :\n",
    "                    points.append(None)\n",
    "    #         print(points)\n",
    "            flat_point = [e for l in points for e in l]\n",
    "            flat_array = np.array(flat_point)\n",
    "            flat_array = flat_array / flat_array.max()\n",
    "\n",
    "            point_dict = {i:flat_array[i] for i in np.arange(len(flat_array))}\n",
    "            \n",
    "            if filename.find('right') >= 0:\n",
    "                point_dict['label'] = 1\n",
    "            else:\n",
    "                point_dict['label'] = 0\n",
    "                \n",
    "            if counter == 0:\n",
    "\n",
    "                point_df = pd.DataFrame(point_dict, index=[0])\n",
    "            else:\n",
    "                point_df.loc[counter] = pd.Series(point_dict)\n",
    "    \n",
    "            counter += 1\n",
    "\n",
    "\n",
    "    except:\n",
    "        counter += 1\n",
    "        print(filename)\n",
    "        continue"
   ]
  },
  {
   "cell_type": "code",
   "execution_count": null,
   "metadata": {
    "ExecuteTime": {
     "end_time": "2019-02-17T22:52:47.281998Z",
     "start_time": "2019-02-17T22:52:46.755Z"
    }
   },
   "outputs": [],
   "source": [
    "print(f\"\"\"out of {len(point_df)} images that the algorithm was able to process, \n",
    "{int(point_df.label.sum())} were of correct squats while {int(len(point_df)-point_df.label.sum())} were of bad form\"\"\")"
   ]
  },
  {
   "cell_type": "code",
   "execution_count": null,
   "metadata": {
    "ExecuteTime": {
     "end_time": "2019-02-17T22:52:47.283994Z",
     "start_time": "2019-02-17T22:52:46.758Z"
    }
   },
   "outputs": [],
   "source": [
    "point_df.to_csv('dataframe.csv')"
   ]
  },
  {
   "cell_type": "markdown",
   "metadata": {},
   "source": [
    "## Logistic Regression of NN results"
   ]
  },
  {
   "cell_type": "code",
   "execution_count": null,
   "metadata": {
    "ExecuteTime": {
     "end_time": "2019-02-17T22:52:47.284990Z",
     "start_time": "2019-02-17T22:52:46.760Z"
    }
   },
   "outputs": [],
   "source": [
    "labels = df['label']"
   ]
  },
  {
   "cell_type": "code",
   "execution_count": null,
   "metadata": {
    "ExecuteTime": {
     "end_time": "2019-02-17T22:52:47.284990Z",
     "start_time": "2019-02-17T22:52:46.762Z"
    }
   },
   "outputs": [],
   "source": [
    "features = df.iloc[:,:-1]"
   ]
  },
  {
   "cell_type": "code",
   "execution_count": null,
   "metadata": {
    "ExecuteTime": {
     "end_time": "2019-02-17T22:52:47.286019Z",
     "start_time": "2019-02-17T22:52:46.764Z"
    }
   },
   "outputs": [],
   "source": [
    "from sklearn.model_selection import train_test_split"
   ]
  },
  {
   "cell_type": "code",
   "execution_count": null,
   "metadata": {
    "ExecuteTime": {
     "end_time": "2019-02-17T22:52:47.286019Z",
     "start_time": "2019-02-17T22:52:46.766Z"
    }
   },
   "outputs": [],
   "source": [
    "X_train, X_test, y_train, y_test = train_test_split(features, labels, test_size = 0.2)"
   ]
  },
  {
   "cell_type": "code",
   "execution_count": null,
   "metadata": {
    "ExecuteTime": {
     "end_time": "2019-02-17T22:52:47.287016Z",
     "start_time": "2019-02-17T22:52:46.768Z"
    }
   },
   "outputs": [],
   "source": [
    "y_test.sum()"
   ]
  },
  {
   "cell_type": "code",
   "execution_count": null,
   "metadata": {
    "ExecuteTime": {
     "end_time": "2019-02-17T22:52:47.287016Z",
     "start_time": "2019-02-17T22:52:46.770Z"
    }
   },
   "outputs": [],
   "source": [
    "from sklearn.linear_model import LogisticRegression"
   ]
  },
  {
   "cell_type": "code",
   "execution_count": null,
   "metadata": {
    "ExecuteTime": {
     "end_time": "2019-02-17T22:52:47.287983Z",
     "start_time": "2019-02-17T22:52:46.773Z"
    }
   },
   "outputs": [],
   "source": [
    "classifier = LogisticRegression()"
   ]
  },
  {
   "cell_type": "code",
   "execution_count": null,
   "metadata": {
    "ExecuteTime": {
     "end_time": "2019-02-17T22:52:47.288980Z",
     "start_time": "2019-02-17T22:52:46.775Z"
    }
   },
   "outputs": [],
   "source": [
    "classifier.fit(X_train, y_train)"
   ]
  },
  {
   "cell_type": "code",
   "execution_count": null,
   "metadata": {
    "ExecuteTime": {
     "end_time": "2019-02-17T22:52:47.289978Z",
     "start_time": "2019-02-17T22:52:46.777Z"
    }
   },
   "outputs": [],
   "source": [
    "y_pred = classifier.predict(X_test)"
   ]
  },
  {
   "cell_type": "code",
   "execution_count": null,
   "metadata": {
    "ExecuteTime": {
     "end_time": "2019-02-17T22:52:47.290973Z",
     "start_time": "2019-02-17T22:52:46.779Z"
    }
   },
   "outputs": [],
   "source": [
    "print(f\"\"\"Logistic regression resulted in correct prediction in {round(classifier.score(X_test, y_test)*100, 2)}% \n",
    "of images successfully processed\"\"\")"
   ]
  },
  {
   "cell_type": "markdown",
   "metadata": {},
   "source": [
    "## Additional Data Exploration"
   ]
  },
  {
   "cell_type": "code",
   "execution_count": 8,
   "metadata": {
    "ExecuteTime": {
     "end_time": "2019-02-17T22:53:03.396570Z",
     "start_time": "2019-02-17T22:53:03.393567Z"
    }
   },
   "outputs": [],
   "source": [
    "import pandas as pd\n",
    "import matplotlib.pyplot as plt\n",
    "from keras.models import Sequential\n",
    "from keras.layers import Dense\n",
    "from keras.utils.np_utils import to_categorical\n",
    "\n",
    "import numpy as np\n",
    "import matplotlib.pyplot as plt\n",
    "%matplotlib inline"
   ]
  },
  {
   "cell_type": "code",
   "execution_count": 9,
   "metadata": {
    "ExecuteTime": {
     "end_time": "2019-02-17T22:53:05.472827Z",
     "start_time": "2019-02-17T22:53:05.450859Z"
    }
   },
   "outputs": [],
   "source": [
    "df=pd.read_csv('C:/Users/romanrosh/PycharmProjects/bio-mechanic-movmement-detector-ai/destination/all labeled.csv')"
   ]
  },
  {
   "cell_type": "code",
   "execution_count": 10,
   "metadata": {
    "ExecuteTime": {
     "end_time": "2019-02-17T22:53:06.330703Z",
     "start_time": "2019-02-17T22:53:06.308762Z"
    }
   },
   "outputs": [
    {
     "data": {
      "text/html": [
       "<div>\n",
       "<style scoped>\n",
       "    .dataframe tbody tr th:only-of-type {\n",
       "        vertical-align: middle;\n",
       "    }\n",
       "\n",
       "    .dataframe tbody tr th {\n",
       "        vertical-align: top;\n",
       "    }\n",
       "\n",
       "    .dataframe thead th {\n",
       "        text-align: right;\n",
       "    }\n",
       "</style>\n",
       "<table border=\"1\" class=\"dataframe\">\n",
       "  <thead>\n",
       "    <tr style=\"text-align: right;\">\n",
       "      <th></th>\n",
       "      <th>Unnamed: 0</th>\n",
       "      <th>Unnamed: 0.1</th>\n",
       "      <th>0-XNose</th>\n",
       "      <th>0-YNose</th>\n",
       "      <th>1-XNeck</th>\n",
       "      <th>1-YNeck</th>\n",
       "      <th>2-XRShoulder</th>\n",
       "      <th>2-YRShoulder</th>\n",
       "      <th>3-XRElbow</th>\n",
       "      <th>3-YRElbow</th>\n",
       "      <th>...</th>\n",
       "      <th>21-YLHeel</th>\n",
       "      <th>22-XRBigToe</th>\n",
       "      <th>22-YRBigToe</th>\n",
       "      <th>23-XRSmallToe</th>\n",
       "      <th>23-YRSmallToe</th>\n",
       "      <th>24-XRHeel</th>\n",
       "      <th>24-YRHeel</th>\n",
       "      <th>XHead</th>\n",
       "      <th>YHead</th>\n",
       "      <th>label</th>\n",
       "    </tr>\n",
       "  </thead>\n",
       "  <tbody>\n",
       "    <tr>\n",
       "      <th>0</th>\n",
       "      <td>200</td>\n",
       "      <td>95</td>\n",
       "      <td>292.0</td>\n",
       "      <td>125.0</td>\n",
       "      <td>260.0</td>\n",
       "      <td>140.0</td>\n",
       "      <td>260.0</td>\n",
       "      <td>140.0</td>\n",
       "      <td>292.0</td>\n",
       "      <td>148.0</td>\n",
       "      <td>...</td>\n",
       "      <td>297.0</td>\n",
       "      <td>271.0</td>\n",
       "      <td>313.0</td>\n",
       "      <td>260.0</td>\n",
       "      <td>313.0</td>\n",
       "      <td>250.0</td>\n",
       "      <td>305.0</td>\n",
       "      <td>285.591347</td>\n",
       "      <td>137.681689</td>\n",
       "      <td>midway</td>\n",
       "    </tr>\n",
       "    <tr>\n",
       "      <th>1</th>\n",
       "      <td>201</td>\n",
       "      <td>96</td>\n",
       "      <td>292.0</td>\n",
       "      <td>164.0</td>\n",
       "      <td>271.0</td>\n",
       "      <td>172.0</td>\n",
       "      <td>260.0</td>\n",
       "      <td>172.0</td>\n",
       "      <td>302.0</td>\n",
       "      <td>187.0</td>\n",
       "      <td>...</td>\n",
       "      <td>297.0</td>\n",
       "      <td>271.0</td>\n",
       "      <td>313.0</td>\n",
       "      <td>260.0</td>\n",
       "      <td>313.0</td>\n",
       "      <td>250.0</td>\n",
       "      <td>305.0</td>\n",
       "      <td>285.594066</td>\n",
       "      <td>160.671581</td>\n",
       "      <td>midway</td>\n",
       "    </tr>\n",
       "    <tr>\n",
       "      <th>2</th>\n",
       "      <td>202</td>\n",
       "      <td>97</td>\n",
       "      <td>292.0</td>\n",
       "      <td>195.0</td>\n",
       "      <td>271.0</td>\n",
       "      <td>203.0</td>\n",
       "      <td>271.0</td>\n",
       "      <td>203.0</td>\n",
       "      <td>302.0</td>\n",
       "      <td>219.0</td>\n",
       "      <td>...</td>\n",
       "      <td>297.0</td>\n",
       "      <td>271.0</td>\n",
       "      <td>313.0</td>\n",
       "      <td>260.0</td>\n",
       "      <td>313.0</td>\n",
       "      <td>250.0</td>\n",
       "      <td>305.0</td>\n",
       "      <td>286.063187</td>\n",
       "      <td>185.471581</td>\n",
       "      <td>top</td>\n",
       "    </tr>\n",
       "    <tr>\n",
       "      <th>3</th>\n",
       "      <td>203</td>\n",
       "      <td>98</td>\n",
       "      <td>292.0</td>\n",
       "      <td>172.0</td>\n",
       "      <td>271.0</td>\n",
       "      <td>180.0</td>\n",
       "      <td>271.0</td>\n",
       "      <td>187.0</td>\n",
       "      <td>302.0</td>\n",
       "      <td>195.0</td>\n",
       "      <td>...</td>\n",
       "      <td>297.0</td>\n",
       "      <td>271.0</td>\n",
       "      <td>313.0</td>\n",
       "      <td>260.0</td>\n",
       "      <td>313.0</td>\n",
       "      <td>250.0</td>\n",
       "      <td>305.0</td>\n",
       "      <td>285.594066</td>\n",
       "      <td>167.071581</td>\n",
       "      <td>midway</td>\n",
       "    </tr>\n",
       "    <tr>\n",
       "      <th>4</th>\n",
       "      <td>204</td>\n",
       "      <td>99</td>\n",
       "      <td>292.0</td>\n",
       "      <td>125.0</td>\n",
       "      <td>260.0</td>\n",
       "      <td>140.0</td>\n",
       "      <td>260.0</td>\n",
       "      <td>140.0</td>\n",
       "      <td>292.0</td>\n",
       "      <td>148.0</td>\n",
       "      <td>...</td>\n",
       "      <td>297.0</td>\n",
       "      <td>271.0</td>\n",
       "      <td>313.0</td>\n",
       "      <td>260.0</td>\n",
       "      <td>313.0</td>\n",
       "      <td>250.0</td>\n",
       "      <td>305.0</td>\n",
       "      <td>285.594066</td>\n",
       "      <td>134.271581</td>\n",
       "      <td>midway</td>\n",
       "    </tr>\n",
       "  </tbody>\n",
       "</table>\n",
       "<p>5 rows × 55 columns</p>\n",
       "</div>"
      ],
      "text/plain": [
       "   Unnamed: 0  Unnamed: 0.1  0-XNose  0-YNose  1-XNeck  1-YNeck  2-XRShoulder  \\\n",
       "0         200            95    292.0    125.0    260.0    140.0         260.0   \n",
       "1         201            96    292.0    164.0    271.0    172.0         260.0   \n",
       "2         202            97    292.0    195.0    271.0    203.0         271.0   \n",
       "3         203            98    292.0    172.0    271.0    180.0         271.0   \n",
       "4         204            99    292.0    125.0    260.0    140.0         260.0   \n",
       "\n",
       "   2-YRShoulder  3-XRElbow  3-YRElbow   ...    21-YLHeel  22-XRBigToe  \\\n",
       "0         140.0      292.0      148.0   ...        297.0        271.0   \n",
       "1         172.0      302.0      187.0   ...        297.0        271.0   \n",
       "2         203.0      302.0      219.0   ...        297.0        271.0   \n",
       "3         187.0      302.0      195.0   ...        297.0        271.0   \n",
       "4         140.0      292.0      148.0   ...        297.0        271.0   \n",
       "\n",
       "   22-YRBigToe  23-XRSmallToe  23-YRSmallToe  24-XRHeel  24-YRHeel  \\\n",
       "0        313.0          260.0          313.0      250.0      305.0   \n",
       "1        313.0          260.0          313.0      250.0      305.0   \n",
       "2        313.0          260.0          313.0      250.0      305.0   \n",
       "3        313.0          260.0          313.0      250.0      305.0   \n",
       "4        313.0          260.0          313.0      250.0      305.0   \n",
       "\n",
       "        XHead       YHead   label  \n",
       "0  285.591347  137.681689  midway  \n",
       "1  285.594066  160.671581  midway  \n",
       "2  286.063187  185.471581     top  \n",
       "3  285.594066  167.071581  midway  \n",
       "4  285.594066  134.271581  midway  \n",
       "\n",
       "[5 rows x 55 columns]"
      ]
     },
     "execution_count": 10,
     "metadata": {},
     "output_type": "execute_result"
    }
   ],
   "source": [
    "df.head()"
   ]
  },
  {
   "cell_type": "code",
   "execution_count": 11,
   "metadata": {
    "ExecuteTime": {
     "end_time": "2019-02-17T22:53:08.308124Z",
     "start_time": "2019-02-17T22:53:08.304134Z"
    }
   },
   "outputs": [],
   "source": [
    "df['label'] = df['label'].map({'top': 2, 'midway': 1, 'bottom': 0})"
   ]
  },
  {
   "cell_type": "code",
   "execution_count": 12,
   "metadata": {
    "ExecuteTime": {
     "end_time": "2019-02-17T22:53:08.738315Z",
     "start_time": "2019-02-17T22:53:08.721362Z"
    }
   },
   "outputs": [
    {
     "data": {
      "text/html": [
       "<div>\n",
       "<style scoped>\n",
       "    .dataframe tbody tr th:only-of-type {\n",
       "        vertical-align: middle;\n",
       "    }\n",
       "\n",
       "    .dataframe tbody tr th {\n",
       "        vertical-align: top;\n",
       "    }\n",
       "\n",
       "    .dataframe thead th {\n",
       "        text-align: right;\n",
       "    }\n",
       "</style>\n",
       "<table border=\"1\" class=\"dataframe\">\n",
       "  <thead>\n",
       "    <tr style=\"text-align: right;\">\n",
       "      <th></th>\n",
       "      <th>Unnamed: 0</th>\n",
       "      <th>Unnamed: 0.1</th>\n",
       "      <th>0-XNose</th>\n",
       "      <th>0-YNose</th>\n",
       "      <th>1-XNeck</th>\n",
       "      <th>1-YNeck</th>\n",
       "      <th>2-XRShoulder</th>\n",
       "      <th>2-YRShoulder</th>\n",
       "      <th>3-XRElbow</th>\n",
       "      <th>3-YRElbow</th>\n",
       "      <th>...</th>\n",
       "      <th>21-YLHeel</th>\n",
       "      <th>22-XRBigToe</th>\n",
       "      <th>22-YRBigToe</th>\n",
       "      <th>23-XRSmallToe</th>\n",
       "      <th>23-YRSmallToe</th>\n",
       "      <th>24-XRHeel</th>\n",
       "      <th>24-YRHeel</th>\n",
       "      <th>XHead</th>\n",
       "      <th>YHead</th>\n",
       "      <th>label</th>\n",
       "    </tr>\n",
       "  </thead>\n",
       "  <tbody>\n",
       "    <tr>\n",
       "      <th>0</th>\n",
       "      <td>200</td>\n",
       "      <td>95</td>\n",
       "      <td>292.0</td>\n",
       "      <td>125.0</td>\n",
       "      <td>260.0</td>\n",
       "      <td>140.0</td>\n",
       "      <td>260.0</td>\n",
       "      <td>140.0</td>\n",
       "      <td>292.0</td>\n",
       "      <td>148.0</td>\n",
       "      <td>...</td>\n",
       "      <td>297.0</td>\n",
       "      <td>271.0</td>\n",
       "      <td>313.0</td>\n",
       "      <td>260.0</td>\n",
       "      <td>313.0</td>\n",
       "      <td>250.0</td>\n",
       "      <td>305.0</td>\n",
       "      <td>285.591347</td>\n",
       "      <td>137.681689</td>\n",
       "      <td>1</td>\n",
       "    </tr>\n",
       "    <tr>\n",
       "      <th>1</th>\n",
       "      <td>201</td>\n",
       "      <td>96</td>\n",
       "      <td>292.0</td>\n",
       "      <td>164.0</td>\n",
       "      <td>271.0</td>\n",
       "      <td>172.0</td>\n",
       "      <td>260.0</td>\n",
       "      <td>172.0</td>\n",
       "      <td>302.0</td>\n",
       "      <td>187.0</td>\n",
       "      <td>...</td>\n",
       "      <td>297.0</td>\n",
       "      <td>271.0</td>\n",
       "      <td>313.0</td>\n",
       "      <td>260.0</td>\n",
       "      <td>313.0</td>\n",
       "      <td>250.0</td>\n",
       "      <td>305.0</td>\n",
       "      <td>285.594066</td>\n",
       "      <td>160.671581</td>\n",
       "      <td>1</td>\n",
       "    </tr>\n",
       "    <tr>\n",
       "      <th>2</th>\n",
       "      <td>202</td>\n",
       "      <td>97</td>\n",
       "      <td>292.0</td>\n",
       "      <td>195.0</td>\n",
       "      <td>271.0</td>\n",
       "      <td>203.0</td>\n",
       "      <td>271.0</td>\n",
       "      <td>203.0</td>\n",
       "      <td>302.0</td>\n",
       "      <td>219.0</td>\n",
       "      <td>...</td>\n",
       "      <td>297.0</td>\n",
       "      <td>271.0</td>\n",
       "      <td>313.0</td>\n",
       "      <td>260.0</td>\n",
       "      <td>313.0</td>\n",
       "      <td>250.0</td>\n",
       "      <td>305.0</td>\n",
       "      <td>286.063187</td>\n",
       "      <td>185.471581</td>\n",
       "      <td>2</td>\n",
       "    </tr>\n",
       "    <tr>\n",
       "      <th>3</th>\n",
       "      <td>203</td>\n",
       "      <td>98</td>\n",
       "      <td>292.0</td>\n",
       "      <td>172.0</td>\n",
       "      <td>271.0</td>\n",
       "      <td>180.0</td>\n",
       "      <td>271.0</td>\n",
       "      <td>187.0</td>\n",
       "      <td>302.0</td>\n",
       "      <td>195.0</td>\n",
       "      <td>...</td>\n",
       "      <td>297.0</td>\n",
       "      <td>271.0</td>\n",
       "      <td>313.0</td>\n",
       "      <td>260.0</td>\n",
       "      <td>313.0</td>\n",
       "      <td>250.0</td>\n",
       "      <td>305.0</td>\n",
       "      <td>285.594066</td>\n",
       "      <td>167.071581</td>\n",
       "      <td>1</td>\n",
       "    </tr>\n",
       "    <tr>\n",
       "      <th>4</th>\n",
       "      <td>204</td>\n",
       "      <td>99</td>\n",
       "      <td>292.0</td>\n",
       "      <td>125.0</td>\n",
       "      <td>260.0</td>\n",
       "      <td>140.0</td>\n",
       "      <td>260.0</td>\n",
       "      <td>140.0</td>\n",
       "      <td>292.0</td>\n",
       "      <td>148.0</td>\n",
       "      <td>...</td>\n",
       "      <td>297.0</td>\n",
       "      <td>271.0</td>\n",
       "      <td>313.0</td>\n",
       "      <td>260.0</td>\n",
       "      <td>313.0</td>\n",
       "      <td>250.0</td>\n",
       "      <td>305.0</td>\n",
       "      <td>285.594066</td>\n",
       "      <td>134.271581</td>\n",
       "      <td>1</td>\n",
       "    </tr>\n",
       "  </tbody>\n",
       "</table>\n",
       "<p>5 rows × 55 columns</p>\n",
       "</div>"
      ],
      "text/plain": [
       "   Unnamed: 0  Unnamed: 0.1  0-XNose  0-YNose  1-XNeck  1-YNeck  2-XRShoulder  \\\n",
       "0         200            95    292.0    125.0    260.0    140.0         260.0   \n",
       "1         201            96    292.0    164.0    271.0    172.0         260.0   \n",
       "2         202            97    292.0    195.0    271.0    203.0         271.0   \n",
       "3         203            98    292.0    172.0    271.0    180.0         271.0   \n",
       "4         204            99    292.0    125.0    260.0    140.0         260.0   \n",
       "\n",
       "   2-YRShoulder  3-XRElbow  3-YRElbow  ...    21-YLHeel  22-XRBigToe  \\\n",
       "0         140.0      292.0      148.0  ...        297.0        271.0   \n",
       "1         172.0      302.0      187.0  ...        297.0        271.0   \n",
       "2         203.0      302.0      219.0  ...        297.0        271.0   \n",
       "3         187.0      302.0      195.0  ...        297.0        271.0   \n",
       "4         140.0      292.0      148.0  ...        297.0        271.0   \n",
       "\n",
       "   22-YRBigToe  23-XRSmallToe  23-YRSmallToe  24-XRHeel  24-YRHeel  \\\n",
       "0        313.0          260.0          313.0      250.0      305.0   \n",
       "1        313.0          260.0          313.0      250.0      305.0   \n",
       "2        313.0          260.0          313.0      250.0      305.0   \n",
       "3        313.0          260.0          313.0      250.0      305.0   \n",
       "4        313.0          260.0          313.0      250.0      305.0   \n",
       "\n",
       "        XHead       YHead  label  \n",
       "0  285.591347  137.681689      1  \n",
       "1  285.594066  160.671581      1  \n",
       "2  286.063187  185.471581      2  \n",
       "3  285.594066  167.071581      1  \n",
       "4  285.594066  134.271581      1  \n",
       "\n",
       "[5 rows x 55 columns]"
      ]
     },
     "execution_count": 12,
     "metadata": {},
     "output_type": "execute_result"
    }
   ],
   "source": [
    "df.head()"
   ]
  },
  {
   "cell_type": "code",
   "execution_count": 13,
   "metadata": {
    "ExecuteTime": {
     "end_time": "2019-02-17T22:53:12.001104Z",
     "start_time": "2019-02-17T22:53:11.996154Z"
    }
   },
   "outputs": [],
   "source": [
    "df.drop(['Unnamed: 0','Unnamed: 0.1'],inplace=True,axis=1)"
   ]
  },
  {
   "cell_type": "code",
   "execution_count": 14,
   "metadata": {
    "ExecuteTime": {
     "end_time": "2019-02-17T22:53:13.490515Z",
     "start_time": "2019-02-17T22:53:13.468035Z"
    }
   },
   "outputs": [
    {
     "data": {
      "text/html": [
       "<div>\n",
       "<style scoped>\n",
       "    .dataframe tbody tr th:only-of-type {\n",
       "        vertical-align: middle;\n",
       "    }\n",
       "\n",
       "    .dataframe tbody tr th {\n",
       "        vertical-align: top;\n",
       "    }\n",
       "\n",
       "    .dataframe thead th {\n",
       "        text-align: right;\n",
       "    }\n",
       "</style>\n",
       "<table border=\"1\" class=\"dataframe\">\n",
       "  <thead>\n",
       "    <tr style=\"text-align: right;\">\n",
       "      <th></th>\n",
       "      <th>0-XNose</th>\n",
       "      <th>0-YNose</th>\n",
       "      <th>1-XNeck</th>\n",
       "      <th>1-YNeck</th>\n",
       "      <th>2-XRShoulder</th>\n",
       "      <th>2-YRShoulder</th>\n",
       "      <th>3-XRElbow</th>\n",
       "      <th>3-YRElbow</th>\n",
       "      <th>4-XRWrist</th>\n",
       "      <th>4-YRWrist</th>\n",
       "      <th>...</th>\n",
       "      <th>21-YLHeel</th>\n",
       "      <th>22-XRBigToe</th>\n",
       "      <th>22-YRBigToe</th>\n",
       "      <th>23-XRSmallToe</th>\n",
       "      <th>23-YRSmallToe</th>\n",
       "      <th>24-XRHeel</th>\n",
       "      <th>24-YRHeel</th>\n",
       "      <th>XHead</th>\n",
       "      <th>YHead</th>\n",
       "      <th>label</th>\n",
       "    </tr>\n",
       "  </thead>\n",
       "  <tbody>\n",
       "    <tr>\n",
       "      <th>0</th>\n",
       "      <td>292.0</td>\n",
       "      <td>125.0</td>\n",
       "      <td>260.0</td>\n",
       "      <td>140.0</td>\n",
       "      <td>260.0</td>\n",
       "      <td>140.0</td>\n",
       "      <td>292.0</td>\n",
       "      <td>148.0</td>\n",
       "      <td>323.0</td>\n",
       "      <td>140.0</td>\n",
       "      <td>...</td>\n",
       "      <td>297.0</td>\n",
       "      <td>271.0</td>\n",
       "      <td>313.0</td>\n",
       "      <td>260.0</td>\n",
       "      <td>313.0</td>\n",
       "      <td>250.0</td>\n",
       "      <td>305.0</td>\n",
       "      <td>285.591347</td>\n",
       "      <td>137.681689</td>\n",
       "      <td>1</td>\n",
       "    </tr>\n",
       "    <tr>\n",
       "      <th>1</th>\n",
       "      <td>292.0</td>\n",
       "      <td>164.0</td>\n",
       "      <td>271.0</td>\n",
       "      <td>172.0</td>\n",
       "      <td>260.0</td>\n",
       "      <td>172.0</td>\n",
       "      <td>302.0</td>\n",
       "      <td>187.0</td>\n",
       "      <td>333.0</td>\n",
       "      <td>187.0</td>\n",
       "      <td>...</td>\n",
       "      <td>297.0</td>\n",
       "      <td>271.0</td>\n",
       "      <td>313.0</td>\n",
       "      <td>260.0</td>\n",
       "      <td>313.0</td>\n",
       "      <td>250.0</td>\n",
       "      <td>305.0</td>\n",
       "      <td>285.594066</td>\n",
       "      <td>160.671581</td>\n",
       "      <td>1</td>\n",
       "    </tr>\n",
       "    <tr>\n",
       "      <th>2</th>\n",
       "      <td>292.0</td>\n",
       "      <td>195.0</td>\n",
       "      <td>271.0</td>\n",
       "      <td>203.0</td>\n",
       "      <td>271.0</td>\n",
       "      <td>203.0</td>\n",
       "      <td>302.0</td>\n",
       "      <td>219.0</td>\n",
       "      <td>333.0</td>\n",
       "      <td>226.0</td>\n",
       "      <td>...</td>\n",
       "      <td>297.0</td>\n",
       "      <td>271.0</td>\n",
       "      <td>313.0</td>\n",
       "      <td>260.0</td>\n",
       "      <td>313.0</td>\n",
       "      <td>250.0</td>\n",
       "      <td>305.0</td>\n",
       "      <td>286.063187</td>\n",
       "      <td>185.471581</td>\n",
       "      <td>2</td>\n",
       "    </tr>\n",
       "    <tr>\n",
       "      <th>3</th>\n",
       "      <td>292.0</td>\n",
       "      <td>172.0</td>\n",
       "      <td>271.0</td>\n",
       "      <td>180.0</td>\n",
       "      <td>271.0</td>\n",
       "      <td>187.0</td>\n",
       "      <td>302.0</td>\n",
       "      <td>195.0</td>\n",
       "      <td>333.0</td>\n",
       "      <td>195.0</td>\n",
       "      <td>...</td>\n",
       "      <td>297.0</td>\n",
       "      <td>271.0</td>\n",
       "      <td>313.0</td>\n",
       "      <td>260.0</td>\n",
       "      <td>313.0</td>\n",
       "      <td>250.0</td>\n",
       "      <td>305.0</td>\n",
       "      <td>285.594066</td>\n",
       "      <td>167.071581</td>\n",
       "      <td>1</td>\n",
       "    </tr>\n",
       "    <tr>\n",
       "      <th>4</th>\n",
       "      <td>292.0</td>\n",
       "      <td>125.0</td>\n",
       "      <td>260.0</td>\n",
       "      <td>140.0</td>\n",
       "      <td>260.0</td>\n",
       "      <td>140.0</td>\n",
       "      <td>292.0</td>\n",
       "      <td>148.0</td>\n",
       "      <td>333.0</td>\n",
       "      <td>148.0</td>\n",
       "      <td>...</td>\n",
       "      <td>297.0</td>\n",
       "      <td>271.0</td>\n",
       "      <td>313.0</td>\n",
       "      <td>260.0</td>\n",
       "      <td>313.0</td>\n",
       "      <td>250.0</td>\n",
       "      <td>305.0</td>\n",
       "      <td>285.594066</td>\n",
       "      <td>134.271581</td>\n",
       "      <td>1</td>\n",
       "    </tr>\n",
       "  </tbody>\n",
       "</table>\n",
       "<p>5 rows × 53 columns</p>\n",
       "</div>"
      ],
      "text/plain": [
       "   0-XNose  0-YNose  1-XNeck  1-YNeck  2-XRShoulder  2-YRShoulder  3-XRElbow  \\\n",
       "0    292.0    125.0    260.0    140.0         260.0         140.0      292.0   \n",
       "1    292.0    164.0    271.0    172.0         260.0         172.0      302.0   \n",
       "2    292.0    195.0    271.0    203.0         271.0         203.0      302.0   \n",
       "3    292.0    172.0    271.0    180.0         271.0         187.0      302.0   \n",
       "4    292.0    125.0    260.0    140.0         260.0         140.0      292.0   \n",
       "\n",
       "   3-YRElbow  4-XRWrist  4-YRWrist  ...    21-YLHeel  22-XRBigToe  \\\n",
       "0      148.0      323.0      140.0  ...        297.0        271.0   \n",
       "1      187.0      333.0      187.0  ...        297.0        271.0   \n",
       "2      219.0      333.0      226.0  ...        297.0        271.0   \n",
       "3      195.0      333.0      195.0  ...        297.0        271.0   \n",
       "4      148.0      333.0      148.0  ...        297.0        271.0   \n",
       "\n",
       "   22-YRBigToe  23-XRSmallToe  23-YRSmallToe  24-XRHeel  24-YRHeel  \\\n",
       "0        313.0          260.0          313.0      250.0      305.0   \n",
       "1        313.0          260.0          313.0      250.0      305.0   \n",
       "2        313.0          260.0          313.0      250.0      305.0   \n",
       "3        313.0          260.0          313.0      250.0      305.0   \n",
       "4        313.0          260.0          313.0      250.0      305.0   \n",
       "\n",
       "        XHead       YHead  label  \n",
       "0  285.591347  137.681689      1  \n",
       "1  285.594066  160.671581      1  \n",
       "2  286.063187  185.471581      2  \n",
       "3  285.594066  167.071581      1  \n",
       "4  285.594066  134.271581      1  \n",
       "\n",
       "[5 rows x 53 columns]"
      ]
     },
     "execution_count": 14,
     "metadata": {},
     "output_type": "execute_result"
    }
   ],
   "source": [
    "df.head()"
   ]
  },
  {
   "cell_type": "code",
   "execution_count": 15,
   "metadata": {
    "ExecuteTime": {
     "end_time": "2019-02-17T22:53:14.182842Z",
     "start_time": "2019-02-17T22:53:14.179851Z"
    }
   },
   "outputs": [],
   "source": [
    "df = df[df.label != 1]"
   ]
  },
  {
   "cell_type": "code",
   "execution_count": 16,
   "metadata": {
    "ExecuteTime": {
     "end_time": "2019-02-17T22:53:14.799451Z",
     "start_time": "2019-02-17T22:53:14.771529Z"
    }
   },
   "outputs": [
    {
     "data": {
      "text/html": [
       "<div>\n",
       "<style scoped>\n",
       "    .dataframe tbody tr th:only-of-type {\n",
       "        vertical-align: middle;\n",
       "    }\n",
       "\n",
       "    .dataframe tbody tr th {\n",
       "        vertical-align: top;\n",
       "    }\n",
       "\n",
       "    .dataframe thead th {\n",
       "        text-align: right;\n",
       "    }\n",
       "</style>\n",
       "<table border=\"1\" class=\"dataframe\">\n",
       "  <thead>\n",
       "    <tr style=\"text-align: right;\">\n",
       "      <th></th>\n",
       "      <th>0-XNose</th>\n",
       "      <th>0-YNose</th>\n",
       "      <th>1-XNeck</th>\n",
       "      <th>1-YNeck</th>\n",
       "      <th>2-XRShoulder</th>\n",
       "      <th>2-YRShoulder</th>\n",
       "      <th>3-XRElbow</th>\n",
       "      <th>3-YRElbow</th>\n",
       "      <th>4-XRWrist</th>\n",
       "      <th>4-YRWrist</th>\n",
       "      <th>...</th>\n",
       "      <th>21-YLHeel</th>\n",
       "      <th>22-XRBigToe</th>\n",
       "      <th>22-YRBigToe</th>\n",
       "      <th>23-XRSmallToe</th>\n",
       "      <th>23-YRSmallToe</th>\n",
       "      <th>24-XRHeel</th>\n",
       "      <th>24-YRHeel</th>\n",
       "      <th>XHead</th>\n",
       "      <th>YHead</th>\n",
       "      <th>label</th>\n",
       "    </tr>\n",
       "  </thead>\n",
       "  <tbody>\n",
       "    <tr>\n",
       "      <th>0</th>\n",
       "      <td>292.0</td>\n",
       "      <td>125.0</td>\n",
       "      <td>260.0</td>\n",
       "      <td>140.0</td>\n",
       "      <td>260.0</td>\n",
       "      <td>140.0</td>\n",
       "      <td>292.0</td>\n",
       "      <td>148.0</td>\n",
       "      <td>323.0</td>\n",
       "      <td>140.0</td>\n",
       "      <td>...</td>\n",
       "      <td>297.0</td>\n",
       "      <td>271.0</td>\n",
       "      <td>313.0</td>\n",
       "      <td>260.0</td>\n",
       "      <td>313.0</td>\n",
       "      <td>250.0</td>\n",
       "      <td>305.0</td>\n",
       "      <td>285.591347</td>\n",
       "      <td>137.681689</td>\n",
       "      <td>1</td>\n",
       "    </tr>\n",
       "    <tr>\n",
       "      <th>1</th>\n",
       "      <td>292.0</td>\n",
       "      <td>164.0</td>\n",
       "      <td>271.0</td>\n",
       "      <td>172.0</td>\n",
       "      <td>260.0</td>\n",
       "      <td>172.0</td>\n",
       "      <td>302.0</td>\n",
       "      <td>187.0</td>\n",
       "      <td>333.0</td>\n",
       "      <td>187.0</td>\n",
       "      <td>...</td>\n",
       "      <td>297.0</td>\n",
       "      <td>271.0</td>\n",
       "      <td>313.0</td>\n",
       "      <td>260.0</td>\n",
       "      <td>313.0</td>\n",
       "      <td>250.0</td>\n",
       "      <td>305.0</td>\n",
       "      <td>285.594066</td>\n",
       "      <td>160.671581</td>\n",
       "      <td>1</td>\n",
       "    </tr>\n",
       "    <tr>\n",
       "      <th>2</th>\n",
       "      <td>292.0</td>\n",
       "      <td>195.0</td>\n",
       "      <td>271.0</td>\n",
       "      <td>203.0</td>\n",
       "      <td>271.0</td>\n",
       "      <td>203.0</td>\n",
       "      <td>302.0</td>\n",
       "      <td>219.0</td>\n",
       "      <td>333.0</td>\n",
       "      <td>226.0</td>\n",
       "      <td>...</td>\n",
       "      <td>297.0</td>\n",
       "      <td>271.0</td>\n",
       "      <td>313.0</td>\n",
       "      <td>260.0</td>\n",
       "      <td>313.0</td>\n",
       "      <td>250.0</td>\n",
       "      <td>305.0</td>\n",
       "      <td>286.063187</td>\n",
       "      <td>185.471581</td>\n",
       "      <td>2</td>\n",
       "    </tr>\n",
       "    <tr>\n",
       "      <th>3</th>\n",
       "      <td>292.0</td>\n",
       "      <td>172.0</td>\n",
       "      <td>271.0</td>\n",
       "      <td>180.0</td>\n",
       "      <td>271.0</td>\n",
       "      <td>187.0</td>\n",
       "      <td>302.0</td>\n",
       "      <td>195.0</td>\n",
       "      <td>333.0</td>\n",
       "      <td>195.0</td>\n",
       "      <td>...</td>\n",
       "      <td>297.0</td>\n",
       "      <td>271.0</td>\n",
       "      <td>313.0</td>\n",
       "      <td>260.0</td>\n",
       "      <td>313.0</td>\n",
       "      <td>250.0</td>\n",
       "      <td>305.0</td>\n",
       "      <td>285.594066</td>\n",
       "      <td>167.071581</td>\n",
       "      <td>1</td>\n",
       "    </tr>\n",
       "    <tr>\n",
       "      <th>4</th>\n",
       "      <td>292.0</td>\n",
       "      <td>125.0</td>\n",
       "      <td>260.0</td>\n",
       "      <td>140.0</td>\n",
       "      <td>260.0</td>\n",
       "      <td>140.0</td>\n",
       "      <td>292.0</td>\n",
       "      <td>148.0</td>\n",
       "      <td>333.0</td>\n",
       "      <td>148.0</td>\n",
       "      <td>...</td>\n",
       "      <td>297.0</td>\n",
       "      <td>271.0</td>\n",
       "      <td>313.0</td>\n",
       "      <td>260.0</td>\n",
       "      <td>313.0</td>\n",
       "      <td>250.0</td>\n",
       "      <td>305.0</td>\n",
       "      <td>285.594066</td>\n",
       "      <td>134.271581</td>\n",
       "      <td>1</td>\n",
       "    </tr>\n",
       "  </tbody>\n",
       "</table>\n",
       "<p>5 rows × 53 columns</p>\n",
       "</div>"
      ],
      "text/plain": [
       "   0-XNose  0-YNose  1-XNeck  1-YNeck  2-XRShoulder  2-YRShoulder  3-XRElbow  \\\n",
       "0    292.0    125.0    260.0    140.0         260.0         140.0      292.0   \n",
       "1    292.0    164.0    271.0    172.0         260.0         172.0      302.0   \n",
       "2    292.0    195.0    271.0    203.0         271.0         203.0      302.0   \n",
       "3    292.0    172.0    271.0    180.0         271.0         187.0      302.0   \n",
       "4    292.0    125.0    260.0    140.0         260.0         140.0      292.0   \n",
       "\n",
       "   3-YRElbow  4-XRWrist  4-YRWrist  ...    21-YLHeel  22-XRBigToe  \\\n",
       "0      148.0      323.0      140.0  ...        297.0        271.0   \n",
       "1      187.0      333.0      187.0  ...        297.0        271.0   \n",
       "2      219.0      333.0      226.0  ...        297.0        271.0   \n",
       "3      195.0      333.0      195.0  ...        297.0        271.0   \n",
       "4      148.0      333.0      148.0  ...        297.0        271.0   \n",
       "\n",
       "   22-YRBigToe  23-XRSmallToe  23-YRSmallToe  24-XRHeel  24-YRHeel  \\\n",
       "0        313.0          260.0          313.0      250.0      305.0   \n",
       "1        313.0          260.0          313.0      250.0      305.0   \n",
       "2        313.0          260.0          313.0      250.0      305.0   \n",
       "3        313.0          260.0          313.0      250.0      305.0   \n",
       "4        313.0          260.0          313.0      250.0      305.0   \n",
       "\n",
       "        XHead       YHead  label  \n",
       "0  285.591347  137.681689      1  \n",
       "1  285.594066  160.671581      1  \n",
       "2  286.063187  185.471581      2  \n",
       "3  285.594066  167.071581      1  \n",
       "4  285.594066  134.271581      1  \n",
       "\n",
       "[5 rows x 53 columns]"
      ]
     },
     "execution_count": 16,
     "metadata": {},
     "output_type": "execute_result"
    }
   ],
   "source": [
    "df.head()"
   ]
  },
  {
   "cell_type": "code",
   "execution_count": 25,
   "metadata": {
    "ExecuteTime": {
     "end_time": "2019-02-17T22:54:20.821500Z",
     "start_time": "2019-02-17T22:54:20.818508Z"
    }
   },
   "outputs": [],
   "source": [
    "X = df.loc[:,:'label']\n",
    "y = df.loc[:,'label']\n",
    "y = to_categorical(y)"
   ]
  },
  {
   "cell_type": "code",
   "execution_count": 26,
   "metadata": {
    "ExecuteTime": {
     "end_time": "2019-02-17T22:54:21.244355Z",
     "start_time": "2019-02-17T22:54:21.239336Z"
    }
   },
   "outputs": [],
   "source": [
    "from sklearn.model_selection import train_test_split\n",
    "X_train, X_test, y_train, y_test = train_test_split(X, y, test_size = 0.2)"
   ]
  },
  {
   "cell_type": "code",
   "execution_count": 27,
   "metadata": {
    "ExecuteTime": {
     "end_time": "2019-02-17T22:54:21.726065Z",
     "start_time": "2019-02-17T22:54:21.722075Z"
    }
   },
   "outputs": [
    {
     "name": "stdout",
     "output_type": "stream",
     "text": [
      "(184, 53)\n"
     ]
    }
   ],
   "source": [
    "print(X_train.shape)"
   ]
  },
  {
   "cell_type": "code",
   "execution_count": 28,
   "metadata": {
    "ExecuteTime": {
     "end_time": "2019-02-17T22:54:22.319377Z",
     "start_time": "2019-02-17T22:54:22.227442Z"
    }
   },
   "outputs": [],
   "source": [
    "model=Sequential()\n",
    "model.add(Dense(128,activation='relu',input_shape=(53,)))\n",
    "model.add(Dense(64,activation='relu'))\n",
    "model.add(Dense(32,activation='relu'))\n",
    "model.add(Dense(16,activation='relu'))\n",
    "model.add(Dense(8,activation='relu'))\n",
    "# model.add(Dense(4,activation='relu'))\n",
    "model.add(Dense(3,activation='softmax'))"
   ]
  },
  {
   "cell_type": "code",
   "execution_count": 29,
   "metadata": {
    "ExecuteTime": {
     "end_time": "2019-02-17T22:54:22.876100Z",
     "start_time": "2019-02-17T22:54:22.828229Z"
    }
   },
   "outputs": [
    {
     "name": "stdout",
     "output_type": "stream",
     "text": [
      "_________________________________________________________________\n",
      "Layer (type)                 Output Shape              Param #   \n",
      "=================================================================\n",
      "dense_7 (Dense)              (None, 128)               6912      \n",
      "_________________________________________________________________\n",
      "dense_8 (Dense)              (None, 64)                8256      \n",
      "_________________________________________________________________\n",
      "dense_9 (Dense)              (None, 32)                2080      \n",
      "_________________________________________________________________\n",
      "dense_10 (Dense)             (None, 16)                528       \n",
      "_________________________________________________________________\n",
      "dense_11 (Dense)             (None, 8)                 136       \n",
      "_________________________________________________________________\n",
      "dense_12 (Dense)             (None, 3)                 27        \n",
      "=================================================================\n",
      "Total params: 17,939\n",
      "Trainable params: 17,939\n",
      "Non-trainable params: 0\n",
      "_________________________________________________________________\n"
     ]
    }
   ],
   "source": [
    "model.compile(optimizer='adam',loss='categorical_crossentropy',metrics=['accuracy'])\n",
    "model.summary()"
   ]
  },
  {
   "cell_type": "code",
   "execution_count": 30,
   "metadata": {
    "ExecuteTime": {
     "end_time": "2019-02-17T22:54:27.388487Z",
     "start_time": "2019-02-17T22:54:25.139534Z"
    }
   },
   "outputs": [
    {
     "name": "stdout",
     "output_type": "stream",
     "text": [
      "Train on 184 samples, validate on 46 samples\n",
      "Epoch 1/50\n",
      "184/184 [==============================] - 0s 2ms/step - loss: 13.5777 - acc: 0.1576 - val_loss: 12.6142 - val_acc: 0.2174\n",
      "Epoch 2/50\n",
      "184/184 [==============================] - 0s 146us/step - loss: 13.5777 - acc: 0.1576 - val_loss: 12.6142 - val_acc: 0.2174\n",
      "Epoch 3/50\n",
      "184/184 [==============================] - 0s 146us/step - loss: 13.5777 - acc: 0.1576 - val_loss: 12.6142 - val_acc: 0.2174\n",
      "Epoch 4/50\n",
      "184/184 [==============================] - 0s 157us/step - loss: 13.5777 - acc: 0.1576 - val_loss: 12.6142 - val_acc: 0.2174\n",
      "Epoch 5/50\n",
      "184/184 [==============================] - 0s 152us/step - loss: 13.5777 - acc: 0.1576 - val_loss: 12.6142 - val_acc: 0.2174\n",
      "Epoch 6/50\n",
      "184/184 [==============================] - 0s 152us/step - loss: 13.5777 - acc: 0.1576 - val_loss: 12.6142 - val_acc: 0.2174\n",
      "Epoch 7/50\n",
      "184/184 [==============================] - 0s 157us/step - loss: 13.5777 - acc: 0.1576 - val_loss: 12.6142 - val_acc: 0.2174\n",
      "Epoch 8/50\n",
      "184/184 [==============================] - 0s 157us/step - loss: 13.5777 - acc: 0.1576 - val_loss: 12.6142 - val_acc: 0.2174\n",
      "Epoch 9/50\n",
      "184/184 [==============================] - 0s 152us/step - loss: 13.5777 - acc: 0.1576 - val_loss: 12.6142 - val_acc: 0.2174\n",
      "Epoch 10/50\n",
      "184/184 [==============================] - 0s 141us/step - loss: 13.5777 - acc: 0.1576 - val_loss: 12.6142 - val_acc: 0.2174\n",
      "Epoch 11/50\n",
      "184/184 [==============================] - 0s 152us/step - loss: 13.5777 - acc: 0.1576 - val_loss: 12.6142 - val_acc: 0.2174\n",
      "Epoch 12/50\n",
      "184/184 [==============================] - 0s 146us/step - loss: 13.5777 - acc: 0.1576 - val_loss: 12.6142 - val_acc: 0.2174\n",
      "Epoch 13/50\n",
      "184/184 [==============================] - 0s 152us/step - loss: 13.5777 - acc: 0.1576 - val_loss: 12.6142 - val_acc: 0.2174\n",
      "Epoch 14/50\n",
      "184/184 [==============================] - 0s 146us/step - loss: 13.5777 - acc: 0.1576 - val_loss: 12.6142 - val_acc: 0.2174\n",
      "Epoch 15/50\n",
      "184/184 [==============================] - 0s 146us/step - loss: 13.5777 - acc: 0.1576 - val_loss: 12.6142 - val_acc: 0.2174\n",
      "Epoch 16/50\n",
      "184/184 [==============================] - 0s 141us/step - loss: 13.5777 - acc: 0.1576 - val_loss: 12.6142 - val_acc: 0.2174\n",
      "Epoch 17/50\n",
      "184/184 [==============================] - 0s 152us/step - loss: 13.5777 - acc: 0.1576 - val_loss: 12.6142 - val_acc: 0.2174\n",
      "Epoch 18/50\n",
      "184/184 [==============================] - 0s 141us/step - loss: 13.5777 - acc: 0.1576 - val_loss: 12.6142 - val_acc: 0.2174\n",
      "Epoch 19/50\n",
      "184/184 [==============================] - 0s 141us/step - loss: 13.5777 - acc: 0.1576 - val_loss: 12.6142 - val_acc: 0.2174\n",
      "Epoch 20/50\n",
      "184/184 [==============================] - 0s 163us/step - loss: 13.5777 - acc: 0.1576 - val_loss: 12.6142 - val_acc: 0.2174\n",
      "Epoch 21/50\n",
      "184/184 [==============================] - 0s 146us/step - loss: 13.5777 - acc: 0.1576 - val_loss: 12.6142 - val_acc: 0.2174\n",
      "Epoch 22/50\n",
      "184/184 [==============================] - 0s 152us/step - loss: 13.5777 - acc: 0.1576 - val_loss: 12.6142 - val_acc: 0.2174\n",
      "Epoch 23/50\n",
      "184/184 [==============================] - 0s 157us/step - loss: 13.5777 - acc: 0.1576 - val_loss: 12.6142 - val_acc: 0.2174\n",
      "Epoch 24/50\n",
      "184/184 [==============================] - 0s 152us/step - loss: 13.5777 - acc: 0.1576 - val_loss: 12.6142 - val_acc: 0.2174\n",
      "Epoch 25/50\n",
      "184/184 [==============================] - 0s 146us/step - loss: 13.5777 - acc: 0.1576 - val_loss: 12.6142 - val_acc: 0.2174\n",
      "Epoch 26/50\n",
      "184/184 [==============================] - 0s 157us/step - loss: 13.5777 - acc: 0.1576 - val_loss: 12.6142 - val_acc: 0.2174\n",
      "Epoch 27/50\n",
      "184/184 [==============================] - 0s 163us/step - loss: 13.5777 - acc: 0.1576 - val_loss: 12.6142 - val_acc: 0.2174\n",
      "Epoch 28/50\n",
      "184/184 [==============================] - 0s 157us/step - loss: 13.5777 - acc: 0.1576 - val_loss: 12.6142 - val_acc: 0.2174\n",
      "Epoch 29/50\n",
      "184/184 [==============================] - 0s 152us/step - loss: 13.5777 - acc: 0.1576 - val_loss: 12.6142 - val_acc: 0.2174\n",
      "Epoch 30/50\n",
      "184/184 [==============================] - 0s 152us/step - loss: 13.5777 - acc: 0.1576 - val_loss: 12.6142 - val_acc: 0.2174\n",
      "Epoch 31/50\n",
      "184/184 [==============================] - 0s 157us/step - loss: 13.5777 - acc: 0.1576 - val_loss: 12.6142 - val_acc: 0.2174\n",
      "Epoch 32/50\n",
      "184/184 [==============================] - 0s 152us/step - loss: 13.5777 - acc: 0.1576 - val_loss: 12.6142 - val_acc: 0.2174\n",
      "Epoch 33/50\n",
      "184/184 [==============================] - 0s 146us/step - loss: 13.5777 - acc: 0.1576 - val_loss: 12.6142 - val_acc: 0.2174\n",
      "Epoch 34/50\n",
      "184/184 [==============================] - 0s 146us/step - loss: 13.5777 - acc: 0.1576 - val_loss: 12.6142 - val_acc: 0.2174\n",
      "Epoch 35/50\n",
      "184/184 [==============================] - 0s 152us/step - loss: 13.5777 - acc: 0.1576 - val_loss: 12.6142 - val_acc: 0.2174\n",
      "Epoch 36/50\n",
      "184/184 [==============================] - 0s 152us/step - loss: 13.5777 - acc: 0.1576 - val_loss: 12.6142 - val_acc: 0.2174\n",
      "Epoch 37/50\n",
      "184/184 [==============================] - 0s 157us/step - loss: 13.5777 - acc: 0.1576 - val_loss: 12.6142 - val_acc: 0.2174\n",
      "Epoch 38/50\n",
      "184/184 [==============================] - 0s 157us/step - loss: 13.5777 - acc: 0.1576 - val_loss: 12.6142 - val_acc: 0.2174\n",
      "Epoch 39/50\n",
      "184/184 [==============================] - 0s 152us/step - loss: 13.5777 - acc: 0.1576 - val_loss: 12.6142 - val_acc: 0.2174\n",
      "Epoch 40/50\n",
      "184/184 [==============================] - 0s 152us/step - loss: 13.5777 - acc: 0.1576 - val_loss: 12.6142 - val_acc: 0.2174\n",
      "Epoch 41/50\n",
      "184/184 [==============================] - 0s 163us/step - loss: 13.5777 - acc: 0.1576 - val_loss: 12.6142 - val_acc: 0.2174\n",
      "Epoch 42/50\n",
      "184/184 [==============================] - 0s 157us/step - loss: 13.5777 - acc: 0.1576 - val_loss: 12.6142 - val_acc: 0.2174\n",
      "Epoch 43/50\n",
      "184/184 [==============================] - 0s 157us/step - loss: 13.5777 - acc: 0.1576 - val_loss: 12.6142 - val_acc: 0.2174\n",
      "Epoch 44/50\n",
      "184/184 [==============================] - 0s 152us/step - loss: 13.5777 - acc: 0.1576 - val_loss: 12.6142 - val_acc: 0.2174\n",
      "Epoch 45/50\n",
      "184/184 [==============================] - 0s 157us/step - loss: 13.5777 - acc: 0.1576 - val_loss: 12.6142 - val_acc: 0.2174\n",
      "Epoch 46/50\n",
      "184/184 [==============================] - 0s 163us/step - loss: 13.5777 - acc: 0.1576 - val_loss: 12.6142 - val_acc: 0.2174\n",
      "Epoch 47/50\n",
      "184/184 [==============================] - 0s 152us/step - loss: 13.5777 - acc: 0.1576 - val_loss: 12.6142 - val_acc: 0.2174\n",
      "Epoch 48/50\n",
      "184/184 [==============================] - 0s 146us/step - loss: 13.5777 - acc: 0.1576 - val_loss: 12.6142 - val_acc: 0.2174\n",
      "Epoch 49/50\n",
      "184/184 [==============================] - 0s 146us/step - loss: 13.5777 - acc: 0.1576 - val_loss: 12.6142 - val_acc: 0.2174\n",
      "Epoch 50/50\n",
      "184/184 [==============================] - 0s 157us/step - loss: 13.5777 - acc: 0.1576 - val_loss: 12.6142 - val_acc: 0.2174\n"
     ]
    }
   ],
   "source": [
    "history=model.fit(X_train,y_train,epochs=50,validation_data=(X_test,y_test))"
   ]
  },
  {
   "cell_type": "code",
   "execution_count": 31,
   "metadata": {
    "ExecuteTime": {
     "end_time": "2019-02-17T22:54:31.446310Z",
     "start_time": "2019-02-17T22:54:31.443341Z"
    }
   },
   "outputs": [
    {
     "name": "stdout",
     "output_type": "stream",
     "text": [
      "[0.15760869630005048, 0.1576086959761122, 0.15760869565217392, 0.15760869565217392, 0.15760869500429733, 0.15760869694792706, 0.15760869500429733, 0.15760869630005048, 0.15760869435642078, 0.15760869581414305, 0.15760869630005048, 0.15760869565217392, 0.15760869565217392, 0.15760869630005048, 0.15760869565217392, 0.15760869565217392, 0.1576086959761122, 0.1576086959761122, 0.15760869630005048, 0.15760869500429733, 0.15760869565217392, 0.15760869565217392, 0.15760869565217392, 0.15760869630005048, 0.15760869565217392, 0.15760869630005048, 0.15760869565217392, 0.15760869500429733, 0.15760869694792706, 0.15760869630005048, 0.15760869500429733, 0.15760869630005048, 0.15760869630005048, 0.15760869565217392, 0.15760869581414305, 0.15760869630005048, 0.15760869565217392, 0.15760869630005048, 0.15760869565217392, 0.15760869630005048, 0.15760869565217392, 0.15760869630005048, 0.15760869630005048, 0.15760869500429733, 0.15760869500429733, 0.15760869565217392, 0.15760869500429733, 0.15760869630005048, 0.15760869500429733, 0.15760869630005048]\n"
     ]
    }
   ],
   "source": [
    "print(history.history['acc'])"
   ]
  },
  {
   "cell_type": "code",
   "execution_count": 32,
   "metadata": {
    "ExecuteTime": {
     "end_time": "2019-02-17T22:54:32.238422Z",
     "start_time": "2019-02-17T22:54:32.124691Z"
    }
   },
   "outputs": [
    {
     "data": {
      "text/plain": [
       "[<matplotlib.lines.Line2D at 0x1e46be35f60>]"
      ]
     },
     "execution_count": 32,
     "metadata": {},
     "output_type": "execute_result"
    },
    {
     "data": {
      "image/png": "[encoded data removed]",
      "text/plain": [
       "<Figure size 432x288 with 1 Axes>"
      ]
     },
     "metadata": {
      "needs_background": "light"
     },
     "output_type": "display_data"
    }
   ],
   "source": [
    "plt.plot(history.history['acc'])"
   ]
  },
  {
   "cell_type": "code",
   "execution_count": 33,
   "metadata": {
    "ExecuteTime": {
     "end_time": "2019-02-17T22:54:33.418366Z",
     "start_time": "2019-02-17T22:54:33.315677Z"
    }
   },
   "outputs": [
    {
     "data": {
      "text/plain": [
       "[<matplotlib.lines.Line2D at 0x1e46be93908>]"
      ]
     },
     "execution_count": 33,
     "metadata": {},
     "output_type": "execute_result"
    },
    {
     "data": {
      "image/png": "[encoded data removed]",
      "text/plain": [
       "<Figure size 432x288 with 1 Axes>"
      ]
     },
     "metadata": {
      "needs_background": "light"
     },
     "output_type": "display_data"
    }
   ],
   "source": [
    "plt.plot(history.history['val_acc'])"
   ]
  },
  {
   "cell_type": "markdown",
   "metadata": {
    "ExecuteTime": {
     "end_time": "2019-01-12T19:00:12.220892Z",
     "start_time": "2019-01-12T19:00:12.216902Z"
    }
   },
   "source": [
    "#### Next steps are to add additional data with this movement and make the model more general possibly with additional movements and/or angles, at the moment we can achieve perfect accuracy with neural net"
   ]
  },
  {
   "cell_type": "code",
   "execution_count": null,
   "metadata": {},
   "outputs": [],
   "source": []
  }
 ],
 "metadata": {
  "kernelspec": {
   "display_name": "Python 3",
   "language": "python",
   "name": "python3"
  },
  "language_info": {
   "codemirror_mode": {
    "name": "ipython",
    "version": 3
   },
   "file_extension": ".py",
   "mimetype": "text/x-python",
   "name": "python",
   "nbconvert_exporter": "python",
   "pygments_lexer": "ipython3",
   "version": "3.6.6"
  },
  "toc": {
   "base_numbering": 1,
   "nav_menu": {},
   "number_sections": true,
   "sideBar": true,
   "skip_h1_title": false,
   "title_cell": "Table of Contents",
   "title_sidebar": "Contents",
   "toc_cell": false,
   "toc_position": {},
   "toc_section_display": true,
   "toc_window_display": false
  },
  "varInspector": {
   "cols": {
    "lenName": 16,
    "lenType": 16,
    "lenVar": 40
   },
   "kernels_config": {
    "python": {
     "delete_cmd_postfix": "",
     "delete_cmd_prefix": "del ",
     "library": "var_list.py",
     "varRefreshCmd": "print(var_dic_list())"
    },
    "r": {
     "delete_cmd_postfix": ") ",
     "delete_cmd_prefix": "rm(",
     "library": "var_list.r",
     "varRefreshCmd": "cat(var_dic_list()) "
    }
   },
   "types_to_exclude": [
    "module",
    "function",
    "builtin_function_or_method",
    "instance",
    "_Feature"
   ],
   "window_display": true
  }
 },
 "nbformat": 4,
 "nbformat_minor": 2
}
