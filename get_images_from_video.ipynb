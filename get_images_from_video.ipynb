{
 "cells": [
  {
   "cell_type": "markdown",
   "metadata": {},
   "source": [
    "# # Ex: extracting background from static camera's video using SVD\n",
    "\n",
    "First, import the required libraries."
   ]
  },
  {
   "cell_type": "code",
   "execution_count": 117,
   "metadata": {},
   "outputs": [],
   "source": [
    "#numpy enables numeric calculations: we'll use it for SVD, vectors, matrices.\n",
    "import numpy as np\n",
    "#cv2 is opencv2 api (cv stands for computer vision)\n",
    "import cv2\n",
    "\n",
    "#this one will enable the plot function\n",
    "import matplotlib.pyplot as plt"
   ]
  },
  {
   "cell_type": "markdown",
   "metadata": {},
   "source": [
    "Second, set the right base dir and query details about the video. Check the output to make sure\n",
    "the details make sense."
   ]
  },
  {
   "cell_type": "code",
   "execution_count": 118,
   "metadata": {},
   "outputs": [
    {
     "name": "stdout",
     "output_type": "stream",
     "text": [
      "0 x 0 , 0  frames,  codec= 0\n"
     ]
    }
   ],
   "source": [
    "#set base dir\n",
    "path=''\n",
    "filename = 'Guiness Book Of World Record 206 Squats In Three Minutes_e'\n",
    "cap = cv2.VideoCapture(path+filename+'.avi')\n",
    "\n",
    "#use opencv2 API to query movie info\n",
    "\n",
    "#movie width,height in pixels, length in frames and encoded format.\n",
    "fw = int(cap.get(cv2.CAP_PROP_FRAME_WIDTH))\n",
    "fh = int(cap.get(cv2.CAP_PROP_FRAME_HEIGHT))\n",
    "_len = int(cap.get(cv2.CAP_PROP_FRAME_COUNT))\n",
    "fps = int(cap.get(cv2.CAP_PROP_FPS ))\n",
    "ccodec = int(cap.get(cv2.CAP_PROP_FOURCC))\n",
    "print (fw,'x',fh, ',', _len,' frames,',' codec=',ccodec)"
   ]
  },
  {
   "cell_type": "markdown",
   "metadata": {},
   "source": [
    "Now we'll read the video frame by frame: \n",
    "    -convert it to 8bpp instead of the current RGB 24bpp.\n",
    "    -change shape of i'th frame to vector(\"flatten\"), and copy into the i'th row of target matrix \"mat\".\n",
    "    \n",
    "    \n"
   ]
  },
  {
   "cell_type": "code",
   "execution_count": 119,
   "metadata": {},
   "outputs": [
    {
     "name": "stdout",
     "output_type": "stream",
     "text": [
      "ok\n"
     ]
    },
    {
     "ename": "ValueError",
     "evalue": "zero-size array to reduction operation maximum which has no identity",
     "output_type": "error",
     "traceback": [
      "\u001b[0;31m---------------------------------------------------------------------------\u001b[0m",
      "\u001b[0;31mValueError\u001b[0m                                Traceback (most recent call last)",
      "\u001b[0;32m<ipython-input-119-1f2b4ff80dd9>\u001b[0m in \u001b[0;36m<module>\u001b[0;34m\u001b[0m\n\u001b[1;32m     19\u001b[0m         \u001b[0mcap\u001b[0m\u001b[0;34m.\u001b[0m\u001b[0mrelease\u001b[0m\u001b[0;34m(\u001b[0m\u001b[0;34m)\u001b[0m\u001b[0;34m\u001b[0m\u001b[0;34m\u001b[0m\u001b[0m\n\u001b[1;32m     20\u001b[0m \u001b[0mprint\u001b[0m\u001b[0;34m(\u001b[0m\u001b[0;34m'ok'\u001b[0m\u001b[0;34m)\u001b[0m\u001b[0;34m\u001b[0m\u001b[0;34m\u001b[0m\u001b[0m\n\u001b[0;32m---> 21\u001b[0;31m \u001b[0mmat\u001b[0m\u001b[0;34m.\u001b[0m\u001b[0mmax\u001b[0m\u001b[0;34m(\u001b[0m\u001b[0;34m)\u001b[0m\u001b[0;34m\u001b[0m\u001b[0;34m\u001b[0m\u001b[0m\n\u001b[0m",
      "\u001b[0;32m~/anaconda3/lib/python3.6/site-packages/numpy/core/_methods.py\u001b[0m in \u001b[0;36m_amax\u001b[0;34m(a, axis, out, keepdims, initial)\u001b[0m\n\u001b[1;32m     26\u001b[0m def _amax(a, axis=None, out=None, keepdims=False,\n\u001b[1;32m     27\u001b[0m           initial=_NoValue):\n\u001b[0;32m---> 28\u001b[0;31m     \u001b[0;32mreturn\u001b[0m \u001b[0mumr_maximum\u001b[0m\u001b[0;34m(\u001b[0m\u001b[0ma\u001b[0m\u001b[0;34m,\u001b[0m \u001b[0maxis\u001b[0m\u001b[0;34m,\u001b[0m \u001b[0;32mNone\u001b[0m\u001b[0;34m,\u001b[0m \u001b[0mout\u001b[0m\u001b[0;34m,\u001b[0m \u001b[0mkeepdims\u001b[0m\u001b[0;34m,\u001b[0m \u001b[0minitial\u001b[0m\u001b[0;34m)\u001b[0m\u001b[0;34m\u001b[0m\u001b[0;34m\u001b[0m\u001b[0m\n\u001b[0m\u001b[1;32m     29\u001b[0m \u001b[0;34m\u001b[0m\u001b[0m\n\u001b[1;32m     30\u001b[0m def _amin(a, axis=None, out=None, keepdims=False,\n",
      "\u001b[0;31mValueError\u001b[0m: zero-size array to reduction operation maximum which has no identity"
     ]
    }
   ],
   "source": [
    "#the matrix which i'th row will be the i'th frame, flatted to vector.\n",
    "mat = np.zeros((_len, fh*fw), dtype='int')\n",
    "i = 0\n",
    "while cap.isOpened():\n",
    "    ret, frame = cap.read()\n",
    "    if(ret == True):\n",
    "        #show frame and wait 50ms \n",
    "#         cv2.imshow('frame',frame)\n",
    "#         cv2.waitKey(50)\n",
    "        \n",
    "        #convert to gray and flatten the frame to vector\n",
    "        frame = cv2.cvtColor(frame, cv2.COLOR_BGR2GRAY)\n",
    "        frame = frame.flatten()\n",
    "        mat[i] = frame\n",
    "\n",
    "        #advance frame count\n",
    "        i=i+1\n",
    "    else:\n",
    "        cap.release()\n",
    "print('ok')\n",
    "mat.max()\n"
   ]
  },
  {
   "cell_type": "markdown",
   "metadata": {},
   "source": [
    "Next, decompose \"mat\" using SVD to u,d,v, zeroise all but the first singular value and reconstruct the matrix u@d@v ('@' is the matrix multipliclation sign. '*' is the pointwise multiplication sign)."
   ]
  },
  {
   "cell_type": "code",
   "execution_count": null,
   "metadata": {},
   "outputs": [],
   "source": [
    "# #call svd. Notive that the matrix size is huge, maybe there is a way to save memory. Go through SVD flags.\n",
    "# u,d,v = np.linalg.svd(mat, full_matrices=False)\n",
    "# print(u.shape, d.shape, v.shape)\n",
    "# #lets see what we got\n",
    "# plt.figure()\n",
    "# plt.plot(d)\n",
    "# #plt.axis([0,60,0,100])\n",
    "# plt.show()\n",
    "# #clear sv's, reconstruct matrix...\n",
    "\n",
    "# d[1:] = 0\n",
    "# mat = u @ np.diag(d) @ v\n",
    "# mat = mat.astype(np.uint8)\n"
   ]
  },
  {
   "cell_type": "markdown",
   "metadata": {},
   "source": [
    "write the output to file."
   ]
  },
  {
   "cell_type": "code",
   "execution_count": null,
   "metadata": {},
   "outputs": [],
   "source": []
  },
  {
   "cell_type": "markdown",
   "metadata": {},
   "source": []
  },
  {
   "cell_type": "code",
   "execution_count": null,
   "metadata": {},
   "outputs": [],
   "source": [
    "# a = [1,2,3,4,5,6,7,8]\n",
    "# b = a[-1:0:-1] + [a[0]]\n",
    "# b"
   ]
  },
  {
   "cell_type": "code",
   "execution_count": null,
   "metadata": {},
   "outputs": [],
   "source": [
    "import scipy.misc\n",
    "# scipy.misc.imsave('outfile.jpg', image_array)\n",
    "import scipy.misc\n",
    "\n",
    "for i, frame in enumerate(mat):\n",
    "    #print(frame.shape)\n",
    "    #reverse_frame = frame[-1:0:-1] + [frame[0]]\n",
    "#     if i%5 == 0:\n",
    "    scipy.misc.imsave(f'image_{filename}_{i}.jpg', frame.reshape(fh,fw))\n",
    "    if i>1200:\n",
    "        break\n",
    "    "
   ]
  },
  {
   "cell_type": "markdown",
   "metadata": {},
   "source": [
    "read the output and show it on screen."
   ]
  },
  {
   "cell_type": "code",
   "execution_count": null,
   "metadata": {},
   "outputs": [],
   "source": [
    "#show output\n",
    "cap = cv2.VideoCapture(path+'output.avi')\n",
    "while cap.isOpened():\n",
    "    ret, frame = cap.read()\n",
    "    if(ret):\n",
    "        cv2.imshow('frame',frame)\n",
    "        #play at ~20fps, by waiting 50ms between \"shows\".\n",
    "        cv2.waitKey(50)\n",
    "    else:\n",
    "        break\n",
    "print('ok')"
   ]
  },
  {
   "cell_type": "markdown",
   "metadata": {},
   "source": [
    "Clean up."
   ]
  },
  {
   "cell_type": "code",
   "execution_count": null,
   "metadata": {},
   "outputs": [],
   "source": [
    "# cap.release()\n",
    "# cv2.destroyAllWindows()"
   ]
  },
  {
   "cell_type": "code",
   "execution_count": null,
   "metadata": {},
   "outputs": [],
   "source": []
  }
 ],
 "metadata": {
  "kernelspec": {
   "display_name": "Python 3",
   "language": "python",
   "name": "python3"
  },
  "language_info": {
   "codemirror_mode": {
    "name": "ipython",
    "version": 3
   },
   "file_extension": ".py",
   "mimetype": "text/x-python",
   "name": "python",
   "nbconvert_exporter": "python",
   "pygments_lexer": "ipython3",
   "version": "3.6.8"
  }
 },
 "nbformat": 4,
 "nbformat_minor": 2
}
