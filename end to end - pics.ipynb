{
 "cells": [
  {
   "cell_type": "code",
   "execution_count": 16,
   "metadata": {},
   "outputs": [],
   "source": [
    "from PIL import Image\n",
    "from keras.applications import vgg16\n",
    "from keras.preprocessing import image\n",
    "import os"
   ]
  },
  {
   "cell_type": "code",
   "execution_count": 7,
   "metadata": {},
   "outputs": [],
   "source": [
    "def rotate_image(img_file, degrees):\n",
    "    im1 = Image.open(img_file)\n",
    "    im2 = im1.rotate(degrees)\n",
    "    im2.save(str(degrees)+\"_degrees_edited_\" + img_file)"
   ]
  },
  {
   "cell_type": "code",
   "execution_count": 8,
   "metadata": {},
   "outputs": [],
   "source": [
    "# model=vgg16.VGG16(weights='imagenet')"
   ]
  },
  {
   "cell_type": "code",
   "execution_count": 11,
   "metadata": {},
   "outputs": [],
   "source": [
    "def resize_pic(img_file, size):\n",
    "    img=image.load_img(img_file,target_size=size)\n",
    "    img.save(str(size)+\"_new_size_\" + img_file)"
   ]
  },
  {
   "cell_type": "code",
   "execution_count": 14,
   "metadata": {},
   "outputs": [],
   "source": [
    "resize_pic(\"snatch.jpg\", (220,220))"
   ]
  },
  {
   "cell_type": "code",
   "execution_count": 22,
   "metadata": {},
   "outputs": [],
   "source": [
    "for filename in os.listdir(os.getcwd()):\n",
    "    if filename.endswith(\".jpg\") or filename.endswith(\".png\"): \n",
    "        rotate_image(filename,30)\n",
    "    else:\n",
    "        continue"
   ]
  },
  {
   "cell_type": "code",
   "execution_count": 20,
   "metadata": {},
   "outputs": [
    {
     "data": {
      "text/plain": [
       "['Silhouette - shalom.ipynb',\n",
       " '.DS_Store',\n",
       " 'Detect corners.py',\n",
       " 'snatch.jpg',\n",
       " 'Rotating pictures.ipynb',\n",
       " 'test remove background.py',\n",
       " 'test video rendering.py',\n",
       " 'edited_snatch.jpg',\n",
       " 'detect corners 2.py',\n",
       " 'roman-resizing.ipynb',\n",
       " 'test video read from file.py',\n",
       " 'README.md',\n",
       " 'binarize.py',\n",
       " 'download from youtube.py',\n",
       " '.ipynb_checkpoints',\n",
       " 'test detect edges.py',\n",
       " '.git',\n",
       " 'end to end - pics.ipynb']"
      ]
     },
     "execution_count": 20,
     "metadata": {},
     "output_type": "execute_result"
    }
   ],
   "source": [
    "os.listdir(os.getcwd())"
   ]
  },
  {
   "cell_type": "code",
   "execution_count": null,
   "metadata": {},
   "outputs": [],
   "source": []
  },
  {
   "cell_type": "code",
   "execution_count": null,
   "metadata": {},
   "outputs": [],
   "source": []
  }
 ],
 "metadata": {
  "kernelspec": {
   "display_name": "Python 2",
   "language": "python",
   "name": "python2"
  },
  "language_info": {
   "codemirror_mode": {
    "name": "ipython",
    "version": 2
   },
   "file_extension": ".py",
   "mimetype": "text/x-python",
   "name": "python",
   "nbconvert_exporter": "python",
   "pygments_lexer": "ipython2",
   "version": "2.7.15"
  }
 },
 "nbformat": 4,
 "nbformat_minor": 2
}
