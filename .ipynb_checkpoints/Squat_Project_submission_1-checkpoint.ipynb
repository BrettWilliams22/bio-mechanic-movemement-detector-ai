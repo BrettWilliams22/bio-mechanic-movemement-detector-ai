{
 "cells": [
  {
   "cell_type": "code",
   "execution_count": 4,
   "metadata": {
    "ExecuteTime": {
     "end_time": "2019-02-17T23:54:20.183550Z",
     "start_time": "2019-02-17T23:54:20.172581Z"
    }
   },
   "outputs": [
    {
     "data": {
      "text/plain": [
       "<Figure size 720x720 with 0 Axes>"
      ]
     },
     "execution_count": 4,
     "metadata": {},
     "output_type": "execute_result"
    },
    {
     "data": {
      "text/plain": [
       "<Figure size 720x720 with 0 Axes>"
      ]
     },
     "metadata": {},
     "output_type": "display_data"
    }
   ],
   "source": [
    "import pandas as pd\n",
    "import os\n",
    "import time\n",
    "import numpy as np\n",
    "import pandas as pd\n",
    "import cv2\n",
    "import matplotlib.pyplot as plt\n",
    "%matplotlib inline\n",
    "plt.figure(figsize=[10,10])\n",
    "# plt.imshow(cv2.cvtColor(frameCopy, cv2.COLOR_BGR2RGB))import cv2"
   ]
  },
  {
   "cell_type": "code",
   "execution_count": 5,
   "metadata": {
    "ExecuteTime": {
     "end_time": "2019-02-17T23:54:21.052228Z",
     "start_time": "2019-02-17T23:54:21.047242Z"
    }
   },
   "outputs": [],
   "source": [
    "protoFile = \"C:/Users/romanrosh/openpose-1.4.0-win64-gpu-binaries/models/pose/body_25/pose_deploy.prototxtpose_deploy_linevec_faster_4_stages.prototxt\"\n",
    "weightsFile = \"C:/Users/romanrosh/openpose-1.4.0-win64-gpu-binaries/models/pose/body_25/pose_iter_584000.caffemodel\"\n",
    "nPoints = 25\n",
    "POSE_PAIRS = [[1, 0], [1, 2], [1, 5], [2, 3], [3, 4], [5, 6], [6, 7], [1, 8], [8, 9], [9, 10], [1, 11], [11, 12],\n",
    "              [12, 13], [0, 14], [0, 15], [14, 16], [15, 17],\n",
    "              [10, 11], [8, 12], [12, 13], [13, 14], [1, 0], [0, 15], [0, 16], [16, 18], [2, 17], [5, 18], [14, 19],\n",
    "              [19, 20], [14, 21], [11, 22], [22, 23], [11, 24]]"
   ]
  },
  {
   "cell_type": "markdown",
   "metadata": {},
   "source": [
    "## Load trained VGG network"
   ]
  },
  {
   "cell_type": "code",
   "execution_count": 3,
   "metadata": {
    "ExecuteTime": {
     "end_time": "2019-02-17T23:54:12.994637Z",
     "start_time": "2019-02-17T23:54:12.904879Z"
    }
   },
   "outputs": [
    {
     "ename": "error",
     "evalue": "OpenCV(3.4.1) C:\\Miniconda3\\conda-bld\\opencv-suite_1533128839831\\work\\modules\\dnn\\src\\caffe\\caffe_io.cpp:1119: error: (-2) FAILED: fs.is_open(). Can't open \"C:/Users/romanrosh/openpose-1.4.0-win64-gpu-binaries/models/pose/body_25/pose_deploy.prototxtpose_deploy_linevec_faster_4_stages.prototxt\" in function cv::dnn::ReadProtoFromTextFile\n",
     "output_type": "error",
     "traceback": [
      "\u001b[1;31m---------------------------------------------------------------------------\u001b[0m",
      "\u001b[1;31merror\u001b[0m                                     Traceback (most recent call last)",
      "\u001b[1;32m<ipython-input-3-f575f00549f6>\u001b[0m in \u001b[0;36m<module>\u001b[1;34m()\u001b[0m\n\u001b[1;32m----> 1\u001b[1;33m \u001b[0mnet\u001b[0m \u001b[1;33m=\u001b[0m \u001b[0mcv2\u001b[0m\u001b[1;33m.\u001b[0m\u001b[0mdnn\u001b[0m\u001b[1;33m.\u001b[0m\u001b[0mreadNetFromCaffe\u001b[0m\u001b[1;33m(\u001b[0m\u001b[0mprotoFile\u001b[0m\u001b[1;33m,\u001b[0m \u001b[0mweightsFile\u001b[0m\u001b[1;33m)\u001b[0m\u001b[1;33m\u001b[0m\u001b[0m\n\u001b[0m\u001b[0;32m      2\u001b[0m \u001b[1;33m\u001b[0m\u001b[0m\n\u001b[0;32m      3\u001b[0m \u001b[0minWidth\u001b[0m \u001b[1;33m=\u001b[0m \u001b[1;36m368\u001b[0m\u001b[1;33m\u001b[0m\u001b[0m\n\u001b[0;32m      4\u001b[0m \u001b[0minHeight\u001b[0m \u001b[1;33m=\u001b[0m \u001b[1;36m368\u001b[0m\u001b[1;33m\u001b[0m\u001b[0m\n",
      "\u001b[1;31merror\u001b[0m: OpenCV(3.4.1) C:\\Miniconda3\\conda-bld\\opencv-suite_1533128839831\\work\\modules\\dnn\\src\\caffe\\caffe_io.cpp:1119: error: (-2) FAILED: fs.is_open(). Can't open \"C:/Users/romanrosh/openpose-1.4.0-win64-gpu-binaries/models/pose/body_25/pose_deploy.prototxtpose_deploy_linevec_faster_4_stages.prototxt\" in function cv::dnn::ReadProtoFromTextFile\n"
     ]
    }
   ],
   "source": [
    "net = cv2.dnn.readNetFromCaffe(protoFile, weightsFile)\n",
    "\n",
    "inWidth = 368\n",
    "inHeight = 368\n"
   ]
  },
  {
   "cell_type": "markdown",
   "metadata": {},
   "source": [
    "## Example of image with correct squat form"
   ]
  },
  {
   "cell_type": "code",
   "execution_count": null,
   "metadata": {
    "ExecuteTime": {
     "end_time": "2019-02-17T22:52:47.280006Z",
     "start_time": "2019-02-17T22:52:46.749Z"
    }
   },
   "outputs": [],
   "source": [
    "frame = cv2.imread(\"resized_270_degrees_edited_20190103_155755.jpg\")\n",
    "frameCopy = np.copy(frame)\n",
    "frameWidth = frame.shape[1]\n",
    "frameHeight = frame.shape[0]\n",
    "threshold = 0.1\n",
    "\n",
    "inpBlob = cv2.dnn.blobFromImage(frame, 1.0 / 255, (frameWidth, frameHeight),\n",
    "                          (0, 0, 0), swapRB=False, crop=False)\n",
    "net.setInput(inpBlob)\n",
    "output = net.forward()\n",
    "H = output.shape[2]\n",
    "W = output.shape[3]\n",
    "net.setInput(inpBlob)\n",
    "\n",
    "output = net.forward()\n",
    "H = output.shape[2]\n",
    "W = output.shape[3]\n",
    "\n",
    "points = []\n",
    "\n",
    "for i in range(nPoints):\n",
    "    # confidence map of corresponding body's part.\n",
    "    probMap = output[0, i, :, :]\n",
    "\n",
    "    # Find global maxima of the probMap.\n",
    "    minVal, prob, minLoc, point = cv2.minMaxLoc(probMap)\n",
    "    \n",
    "    # Scale the point to fit on the original image\n",
    "    x = (frameWidth * point[0]) / W\n",
    "    y = (frameHeight * point[1]) / H\n",
    "\n",
    "    if prob > threshold : \n",
    "        cv2.circle(frameCopy, (int(x), int(y)), 8, (0, 255, 255), thickness=-1, lineType=cv2.FILLED)\n",
    "        cv2.putText(frameCopy, \"{}\".format(i), (int(x), int(y)), cv2.FONT_HERSHEY_SIMPLEX, 1, (0, 0, 255), 2, lineType=cv2.LINE_AA)\n",
    "        cv2.circle(frame, (int(x), int(y)), 8, (0, 0, 255), thickness=-1, lineType=cv2.FILLED)\n",
    "\n",
    "        # Add the point to the list if the probability is greater than the threshold\n",
    "        points.append((int(x), int(y)))\n",
    "    else :\n",
    "        points.append(None)\n",
    "\n",
    "# Draw Skeleton\n",
    "for pair in POSE_PAIRS:\n",
    "    partA = pair[0]\n",
    "    partB = pair[1]\n",
    "\n",
    "    if points[partA] and points[partB]:\n",
    "        cv2.line(frame, points[partA], points[partB], (0, 255, 255), 3)\n",
    "\n",
    "\n",
    "plt.figure(figsize=[10,10])\n",
    "plt.imshow(cv2.cvtColor(frame, cv2.COLOR_BGR2RGB))\n"
   ]
  },
  {
   "cell_type": "markdown",
   "metadata": {},
   "source": [
    "## Pass all images through the network to extract joint positions.\n",
    "## Load into dataframe"
   ]
  },
  {
   "cell_type": "code",
   "execution_count": null,
   "metadata": {
    "ExecuteTime": {
     "end_time": "2019-02-17T22:52:47.281000Z",
     "start_time": "2019-02-17T22:52:46.753Z"
    }
   },
   "outputs": [],
   "source": [
    "counter = 0\n",
    "for filename in os.listdir('.'):\n",
    "    try:\n",
    "    \n",
    "        if filename.endswith(\".jpg\") : \n",
    "            print(counter)\n",
    "            frame = cv2.imread(filename)\n",
    "            frameCopy = np.copy(frame)\n",
    "            frameWidth = frame.shape[1]\n",
    "            frameHeight = frame.shape[0]\n",
    "            threshold = 0.1\n",
    "\n",
    "            inpBlob = cv2.dnn.blobFromImage(frame, 1.0 / 255, (inWidth, inHeight),\n",
    "                                      (0, 0, 0), swapRB=False, crop=False)\n",
    "\n",
    "            net.setInput(inpBlob)\n",
    "\n",
    "            output = net.forward()\n",
    "            H = output.shape[2]\n",
    "            W = output.shape[3]\n",
    "\n",
    "            points = []\n",
    "\n",
    "            for i in range(nPoints):\n",
    "                # confidence map of corresponding body's part.\n",
    "                probMap = output[0, i, :, :]\n",
    "\n",
    "                # Find global maxima of the probMap.\n",
    "                minVal, prob, minLoc, point = cv2.minMaxLoc(probMap)\n",
    "\n",
    "                # Scale the point to fit on the original image\n",
    "                x = (frameWidth * point[0]) / W\n",
    "                y = (frameHeight * point[1]) / H\n",
    "\n",
    "                if prob > threshold : \n",
    "                    cv2.circle(frameCopy, (int(x), int(y)), 8, (0, 255, 255), thickness=-1, lineType=cv2.FILLED)\n",
    "                    cv2.putText(frameCopy, \"{}\".format(i), (int(x), int(y)), cv2.FONT_HERSHEY_SIMPLEX, 1, (0, 0, 255), 2, lineType=cv2.LINE_AA)\n",
    "                    cv2.circle(frame, (int(x), int(y)), 8, (0, 0, 255), thickness=-1, lineType=cv2.FILLED)\n",
    "\n",
    "                    # Add the point to the list if the probability is greater than the threshold\n",
    "                    points.append((int(x), int(y)))\n",
    "                else :\n",
    "                    points.append(None)\n",
    "    #         print(points)\n",
    "            flat_point = [e for l in points for e in l]\n",
    "            flat_array = np.array(flat_point)\n",
    "            flat_array = flat_array / flat_array.max()\n",
    "\n",
    "            point_dict = {i:flat_array[i] for i in np.arange(len(flat_array))}\n",
    "            \n",
    "            if filename.find('right') >= 0:\n",
    "                point_dict['label'] = 1\n",
    "            else:\n",
    "                point_dict['label'] = 0\n",
    "                \n",
    "            if counter == 0:\n",
    "\n",
    "                point_df = pd.DataFrame(point_dict, index=[0])\n",
    "            else:\n",
    "                point_df.loc[counter] = pd.Series(point_dict)\n",
    "    \n",
    "            counter += 1\n",
    "\n",
    "\n",
    "    except:\n",
    "        counter += 1\n",
    "        print(filename)\n",
    "        continue"
   ]
  },
  {
   "cell_type": "code",
   "execution_count": null,
   "metadata": {
    "ExecuteTime": {
     "end_time": "2019-02-17T22:52:47.281998Z",
     "start_time": "2019-02-17T22:52:46.755Z"
    }
   },
   "outputs": [],
   "source": [
    "print(f\"\"\"out of {len(point_df)} images that the algorithm was able to process, \n",
    "{int(point_df.label.sum())} were of correct squats while {int(len(point_df)-point_df.label.sum())} were of bad form\"\"\")"
   ]
  },
  {
   "cell_type": "code",
   "execution_count": null,
   "metadata": {
    "ExecuteTime": {
     "end_time": "2019-02-17T22:52:47.283994Z",
     "start_time": "2019-02-17T22:52:46.758Z"
    }
   },
   "outputs": [],
   "source": [
    "point_df.to_csv('dataframe.csv')"
   ]
  },
  {
   "cell_type": "markdown",
   "metadata": {},
   "source": [
    "## Logistic Regression of NN results"
   ]
  },
  {
   "cell_type": "code",
   "execution_count": null,
   "metadata": {
    "ExecuteTime": {
     "end_time": "2019-02-17T22:52:47.284990Z",
     "start_time": "2019-02-17T22:52:46.760Z"
    }
   },
   "outputs": [],
   "source": [
    "labels = df['label']"
   ]
  },
  {
   "cell_type": "code",
   "execution_count": null,
   "metadata": {
    "ExecuteTime": {
     "end_time": "2019-02-17T22:52:47.284990Z",
     "start_time": "2019-02-17T22:52:46.762Z"
    }
   },
   "outputs": [],
   "source": [
    "features = df.iloc[:,:-1]"
   ]
  },
  {
   "cell_type": "code",
   "execution_count": null,
   "metadata": {
    "ExecuteTime": {
     "end_time": "2019-02-17T22:52:47.286019Z",
     "start_time": "2019-02-17T22:52:46.764Z"
    }
   },
   "outputs": [],
   "source": [
    "from sklearn.model_selection import train_test_split"
   ]
  },
  {
   "cell_type": "code",
   "execution_count": null,
   "metadata": {
    "ExecuteTime": {
     "end_time": "2019-02-17T22:52:47.286019Z",
     "start_time": "2019-02-17T22:52:46.766Z"
    }
   },
   "outputs": [],
   "source": [
    "X_train, X_test, y_train, y_test = train_test_split(features, labels, test_size = 0.2)"
   ]
  },
  {
   "cell_type": "code",
   "execution_count": null,
   "metadata": {
    "ExecuteTime": {
     "end_time": "2019-02-17T22:52:47.287016Z",
     "start_time": "2019-02-17T22:52:46.768Z"
    }
   },
   "outputs": [],
   "source": [
    "y_test.sum()"
   ]
  },
  {
   "cell_type": "code",
   "execution_count": null,
   "metadata": {
    "ExecuteTime": {
     "end_time": "2019-02-17T22:52:47.287016Z",
     "start_time": "2019-02-17T22:52:46.770Z"
    }
   },
   "outputs": [],
   "source": [
    "from sklearn.linear_model import LogisticRegression"
   ]
  },
  {
   "cell_type": "code",
   "execution_count": null,
   "metadata": {
    "ExecuteTime": {
     "end_time": "2019-02-17T22:52:47.287983Z",
     "start_time": "2019-02-17T22:52:46.773Z"
    }
   },
   "outputs": [],
   "source": [
    "classifier = LogisticRegression()"
   ]
  },
  {
   "cell_type": "code",
   "execution_count": null,
   "metadata": {
    "ExecuteTime": {
     "end_time": "2019-02-17T22:52:47.288980Z",
     "start_time": "2019-02-17T22:52:46.775Z"
    }
   },
   "outputs": [],
   "source": [
    "classifier.fit(X_train, y_train)"
   ]
  },
  {
   "cell_type": "code",
   "execution_count": null,
   "metadata": {
    "ExecuteTime": {
     "end_time": "2019-02-17T22:52:47.289978Z",
     "start_time": "2019-02-17T22:52:46.777Z"
    }
   },
   "outputs": [],
   "source": [
    "y_pred = classifier.predict(X_test)"
   ]
  },
  {
   "cell_type": "code",
   "execution_count": null,
   "metadata": {
    "ExecuteTime": {
     "end_time": "2019-02-17T22:52:47.290973Z",
     "start_time": "2019-02-17T22:52:46.779Z"
    }
   },
   "outputs": [],
   "source": [
    "print(f\"\"\"Logistic regression resulted in correct prediction in {round(classifier.score(X_test, y_test)*100, 2)}% \n",
    "of images successfully processed\"\"\")"
   ]
  },
  {
   "cell_type": "markdown",
   "metadata": {},
   "source": [
    "## Additional Data Exploration"
   ]
  },
  {
   "cell_type": "code",
   "execution_count": 14,
   "metadata": {
    "ExecuteTime": {
     "end_time": "2019-02-17T23:55:22.841675Z",
     "start_time": "2019-02-17T23:55:22.836688Z"
    }
   },
   "outputs": [],
   "source": [
    "import pandas as pd\n",
    "import matplotlib.pyplot as plt\n",
    "from keras.models import Sequential\n",
    "from keras.layers import Dense\n",
    "from keras.utils.np_utils import to_categorical\n",
    "\n",
    "import numpy as np\n",
    "import matplotlib.pyplot as plt\n",
    "%matplotlib inline"
   ]
  },
  {
   "cell_type": "code",
   "execution_count": 15,
   "metadata": {
    "ExecuteTime": {
     "end_time": "2019-02-17T23:55:26.541054Z",
     "start_time": "2019-02-17T23:55:26.531081Z"
    }
   },
   "outputs": [],
   "source": [
    "df=pd.read_csv('C:/Users/romanrosh/PycharmProjects/bio-mechanic-movmement-detector-ai/destination/all labeled.csv')"
   ]
  },
  {
   "cell_type": "code",
   "execution_count": 16,
   "metadata": {
    "ExecuteTime": {
     "end_time": "2019-02-17T23:55:30.260401Z",
     "start_time": "2019-02-17T23:55:30.242449Z"
    }
   },
   "outputs": [
    {
     "data": {
      "text/html": [
       "<div>\n",
       "<style scoped>\n",
       "    .dataframe tbody tr th:only-of-type {\n",
       "        vertical-align: middle;\n",
       "    }\n",
       "\n",
       "    .dataframe tbody tr th {\n",
       "        vertical-align: top;\n",
       "    }\n",
       "\n",
       "    .dataframe thead th {\n",
       "        text-align: right;\n",
       "    }\n",
       "</style>\n",
       "<table border=\"1\" class=\"dataframe\">\n",
       "  <thead>\n",
       "    <tr style=\"text-align: right;\">\n",
       "      <th></th>\n",
       "      <th>Unnamed: 0</th>\n",
       "      <th>Unnamed: 0.1</th>\n",
       "      <th>0-XNose</th>\n",
       "      <th>0-YNose</th>\n",
       "      <th>1-XNeck</th>\n",
       "      <th>1-YNeck</th>\n",
       "      <th>2-XRShoulder</th>\n",
       "      <th>2-YRShoulder</th>\n",
       "      <th>3-XRElbow</th>\n",
       "      <th>3-YRElbow</th>\n",
       "      <th>...</th>\n",
       "      <th>24-XRHeel</th>\n",
       "      <th>24-YRHeel</th>\n",
       "      <th>RightKneeAngle</th>\n",
       "      <th>LeftKneeAngle</th>\n",
       "      <th>LeftHeelAngleAngle</th>\n",
       "      <th>RightHeelAngleAngle</th>\n",
       "      <th>HipAngle</th>\n",
       "      <th>XHead</th>\n",
       "      <th>YHead</th>\n",
       "      <th>label</th>\n",
       "    </tr>\n",
       "  </thead>\n",
       "  <tbody>\n",
       "    <tr>\n",
       "      <th>1</th>\n",
       "      <td>1</td>\n",
       "      <td>1</td>\n",
       "      <td>862.0</td>\n",
       "      <td>93.0</td>\n",
       "      <td>862.0</td>\n",
       "      <td>172.0</td>\n",
       "      <td>800.6</td>\n",
       "      <td>172.0</td>\n",
       "      <td>751.0</td>\n",
       "      <td>280.7744</td>\n",
       "      <td>...</td>\n",
       "      <td>779.0</td>\n",
       "      <td>641.0</td>\n",
       "      <td>169.159695</td>\n",
       "      <td>168.768234</td>\n",
       "      <td>163.721639</td>\n",
       "      <td>24.491026</td>\n",
       "      <td>180.000000</td>\n",
       "      <td>850.8</td>\n",
       "      <td>87.0</td>\n",
       "      <td>midway</td>\n",
       "    </tr>\n",
       "    <tr>\n",
       "      <th>2</th>\n",
       "      <td>2</td>\n",
       "      <td>2</td>\n",
       "      <td>862.0</td>\n",
       "      <td>81.0</td>\n",
       "      <td>862.0</td>\n",
       "      <td>250.0</td>\n",
       "      <td>800.6</td>\n",
       "      <td>250.0</td>\n",
       "      <td>779.0</td>\n",
       "      <td>280.7744</td>\n",
       "      <td>...</td>\n",
       "      <td>779.0</td>\n",
       "      <td>641.0</td>\n",
       "      <td>114.423801</td>\n",
       "      <td>139.522454</td>\n",
       "      <td>175.030513</td>\n",
       "      <td>59.463711</td>\n",
       "      <td>172.184706</td>\n",
       "      <td>850.8</td>\n",
       "      <td>159.8</td>\n",
       "      <td>midway</td>\n",
       "    </tr>\n",
       "    <tr>\n",
       "      <th>3</th>\n",
       "      <td>3</td>\n",
       "      <td>3</td>\n",
       "      <td>862.0</td>\n",
       "      <td>81.0</td>\n",
       "      <td>862.0</td>\n",
       "      <td>360.0</td>\n",
       "      <td>800.6</td>\n",
       "      <td>360.0</td>\n",
       "      <td>779.0</td>\n",
       "      <td>280.7744</td>\n",
       "      <td>...</td>\n",
       "      <td>779.0</td>\n",
       "      <td>641.0</td>\n",
       "      <td>73.718776</td>\n",
       "      <td>92.307699</td>\n",
       "      <td>175.030513</td>\n",
       "      <td>62.523684</td>\n",
       "      <td>138.814075</td>\n",
       "      <td>850.8</td>\n",
       "      <td>247.4</td>\n",
       "      <td>midway</td>\n",
       "    </tr>\n",
       "    <tr>\n",
       "      <th>4</th>\n",
       "      <td>4</td>\n",
       "      <td>4</td>\n",
       "      <td>862.0</td>\n",
       "      <td>81.0</td>\n",
       "      <td>862.0</td>\n",
       "      <td>360.0</td>\n",
       "      <td>800.6</td>\n",
       "      <td>360.0</td>\n",
       "      <td>779.0</td>\n",
       "      <td>280.7744</td>\n",
       "      <td>...</td>\n",
       "      <td>779.0</td>\n",
       "      <td>641.0</td>\n",
       "      <td>73.718776</td>\n",
       "      <td>92.307699</td>\n",
       "      <td>175.030513</td>\n",
       "      <td>62.523684</td>\n",
       "      <td>138.814075</td>\n",
       "      <td>850.8</td>\n",
       "      <td>247.4</td>\n",
       "      <td>midway</td>\n",
       "    </tr>\n",
       "    <tr>\n",
       "      <th>5</th>\n",
       "      <td>5</td>\n",
       "      <td>5</td>\n",
       "      <td>862.0</td>\n",
       "      <td>93.0</td>\n",
       "      <td>862.0</td>\n",
       "      <td>172.0</td>\n",
       "      <td>800.6</td>\n",
       "      <td>172.0</td>\n",
       "      <td>779.0</td>\n",
       "      <td>280.7744</td>\n",
       "      <td>...</td>\n",
       "      <td>779.0</td>\n",
       "      <td>641.0</td>\n",
       "      <td>169.159695</td>\n",
       "      <td>167.374163</td>\n",
       "      <td>163.572878</td>\n",
       "      <td>35.331331</td>\n",
       "      <td>174.530905</td>\n",
       "      <td>850.8</td>\n",
       "      <td>93.0</td>\n",
       "      <td>midway</td>\n",
       "    </tr>\n",
       "  </tbody>\n",
       "</table>\n",
       "<p>5 rows × 60 columns</p>\n",
       "</div>"
      ],
      "text/plain": [
       "   Unnamed: 0  Unnamed: 0.1  0-XNose  0-YNose  1-XNeck  1-YNeck  2-XRShoulder  \\\n",
       "1           1             1    862.0     93.0    862.0    172.0         800.6   \n",
       "2           2             2    862.0     81.0    862.0    250.0         800.6   \n",
       "3           3             3    862.0     81.0    862.0    360.0         800.6   \n",
       "4           4             4    862.0     81.0    862.0    360.0         800.6   \n",
       "5           5             5    862.0     93.0    862.0    172.0         800.6   \n",
       "\n",
       "   2-YRShoulder  3-XRElbow  3-YRElbow   ...    24-XRHeel  24-YRHeel  \\\n",
       "1         172.0      751.0   280.7744   ...        779.0      641.0   \n",
       "2         250.0      779.0   280.7744   ...        779.0      641.0   \n",
       "3         360.0      779.0   280.7744   ...        779.0      641.0   \n",
       "4         360.0      779.0   280.7744   ...        779.0      641.0   \n",
       "5         172.0      779.0   280.7744   ...        779.0      641.0   \n",
       "\n",
       "   RightKneeAngle  LeftKneeAngle  LeftHeelAngleAngle  RightHeelAngleAngle  \\\n",
       "1      169.159695     168.768234          163.721639            24.491026   \n",
       "2      114.423801     139.522454          175.030513            59.463711   \n",
       "3       73.718776      92.307699          175.030513            62.523684   \n",
       "4       73.718776      92.307699          175.030513            62.523684   \n",
       "5      169.159695     167.374163          163.572878            35.331331   \n",
       "\n",
       "     HipAngle  XHead  YHead   label  \n",
       "1  180.000000  850.8   87.0  midway  \n",
       "2  172.184706  850.8  159.8  midway  \n",
       "3  138.814075  850.8  247.4  midway  \n",
       "4  138.814075  850.8  247.4  midway  \n",
       "5  174.530905  850.8   93.0  midway  \n",
       "\n",
       "[5 rows x 60 columns]"
      ]
     },
     "execution_count": 16,
     "metadata": {},
     "output_type": "execute_result"
    }
   ],
   "source": [
    "df=df[1:]\n",
    "df.head()"
   ]
  },
  {
   "cell_type": "code",
   "execution_count": 17,
   "metadata": {
    "ExecuteTime": {
     "end_time": "2019-02-17T23:55:33.946582Z",
     "start_time": "2019-02-17T23:55:33.896683Z"
    }
   },
   "outputs": [],
   "source": [
    "df.drop(['Unnamed: 0','Unnamed: 0.1'],inplace=True,axis=1)"
   ]
  },
  {
   "cell_type": "code",
   "execution_count": 18,
   "metadata": {
    "ExecuteTime": {
     "end_time": "2019-02-17T23:55:37.692366Z",
     "start_time": "2019-02-17T23:55:37.672418Z"
    }
   },
   "outputs": [
    {
     "data": {
      "text/html": [
       "<div>\n",
       "<style scoped>\n",
       "    .dataframe tbody tr th:only-of-type {\n",
       "        vertical-align: middle;\n",
       "    }\n",
       "\n",
       "    .dataframe tbody tr th {\n",
       "        vertical-align: top;\n",
       "    }\n",
       "\n",
       "    .dataframe thead th {\n",
       "        text-align: right;\n",
       "    }\n",
       "</style>\n",
       "<table border=\"1\" class=\"dataframe\">\n",
       "  <thead>\n",
       "    <tr style=\"text-align: right;\">\n",
       "      <th></th>\n",
       "      <th>0-XNose</th>\n",
       "      <th>0-YNose</th>\n",
       "      <th>1-XNeck</th>\n",
       "      <th>1-YNeck</th>\n",
       "      <th>2-XRShoulder</th>\n",
       "      <th>2-YRShoulder</th>\n",
       "      <th>3-XRElbow</th>\n",
       "      <th>3-YRElbow</th>\n",
       "      <th>4-XRWrist</th>\n",
       "      <th>4-YRWrist</th>\n",
       "      <th>...</th>\n",
       "      <th>24-XRHeel</th>\n",
       "      <th>24-YRHeel</th>\n",
       "      <th>RightKneeAngle</th>\n",
       "      <th>LeftKneeAngle</th>\n",
       "      <th>LeftHeelAngleAngle</th>\n",
       "      <th>RightHeelAngleAngle</th>\n",
       "      <th>HipAngle</th>\n",
       "      <th>XHead</th>\n",
       "      <th>YHead</th>\n",
       "      <th>label</th>\n",
       "    </tr>\n",
       "  </thead>\n",
       "  <tbody>\n",
       "    <tr>\n",
       "      <th>1</th>\n",
       "      <td>862.0</td>\n",
       "      <td>93.0</td>\n",
       "      <td>862.0</td>\n",
       "      <td>172.0</td>\n",
       "      <td>800.6</td>\n",
       "      <td>172.0</td>\n",
       "      <td>751.0</td>\n",
       "      <td>280.7744</td>\n",
       "      <td>751.0</td>\n",
       "      <td>78.0</td>\n",
       "      <td>...</td>\n",
       "      <td>779.0</td>\n",
       "      <td>641.0</td>\n",
       "      <td>169.159695</td>\n",
       "      <td>168.768234</td>\n",
       "      <td>163.721639</td>\n",
       "      <td>24.491026</td>\n",
       "      <td>180.000000</td>\n",
       "      <td>850.8</td>\n",
       "      <td>87.0</td>\n",
       "      <td>midway</td>\n",
       "    </tr>\n",
       "    <tr>\n",
       "      <th>2</th>\n",
       "      <td>862.0</td>\n",
       "      <td>81.0</td>\n",
       "      <td>862.0</td>\n",
       "      <td>250.0</td>\n",
       "      <td>800.6</td>\n",
       "      <td>250.0</td>\n",
       "      <td>779.0</td>\n",
       "      <td>280.7744</td>\n",
       "      <td>751.0</td>\n",
       "      <td>140.0</td>\n",
       "      <td>...</td>\n",
       "      <td>779.0</td>\n",
       "      <td>641.0</td>\n",
       "      <td>114.423801</td>\n",
       "      <td>139.522454</td>\n",
       "      <td>175.030513</td>\n",
       "      <td>59.463711</td>\n",
       "      <td>172.184706</td>\n",
       "      <td>850.8</td>\n",
       "      <td>159.8</td>\n",
       "      <td>midway</td>\n",
       "    </tr>\n",
       "    <tr>\n",
       "      <th>3</th>\n",
       "      <td>862.0</td>\n",
       "      <td>81.0</td>\n",
       "      <td>862.0</td>\n",
       "      <td>360.0</td>\n",
       "      <td>800.6</td>\n",
       "      <td>360.0</td>\n",
       "      <td>779.0</td>\n",
       "      <td>280.7744</td>\n",
       "      <td>751.0</td>\n",
       "      <td>266.0</td>\n",
       "      <td>...</td>\n",
       "      <td>779.0</td>\n",
       "      <td>641.0</td>\n",
       "      <td>73.718776</td>\n",
       "      <td>92.307699</td>\n",
       "      <td>175.030513</td>\n",
       "      <td>62.523684</td>\n",
       "      <td>138.814075</td>\n",
       "      <td>850.8</td>\n",
       "      <td>247.4</td>\n",
       "      <td>midway</td>\n",
       "    </tr>\n",
       "    <tr>\n",
       "      <th>4</th>\n",
       "      <td>862.0</td>\n",
       "      <td>81.0</td>\n",
       "      <td>862.0</td>\n",
       "      <td>360.0</td>\n",
       "      <td>800.6</td>\n",
       "      <td>360.0</td>\n",
       "      <td>779.0</td>\n",
       "      <td>280.7744</td>\n",
       "      <td>751.0</td>\n",
       "      <td>281.0</td>\n",
       "      <td>...</td>\n",
       "      <td>779.0</td>\n",
       "      <td>641.0</td>\n",
       "      <td>73.718776</td>\n",
       "      <td>92.307699</td>\n",
       "      <td>175.030513</td>\n",
       "      <td>62.523684</td>\n",
       "      <td>138.814075</td>\n",
       "      <td>850.8</td>\n",
       "      <td>247.4</td>\n",
       "      <td>midway</td>\n",
       "    </tr>\n",
       "    <tr>\n",
       "      <th>5</th>\n",
       "      <td>862.0</td>\n",
       "      <td>93.0</td>\n",
       "      <td>862.0</td>\n",
       "      <td>172.0</td>\n",
       "      <td>800.6</td>\n",
       "      <td>172.0</td>\n",
       "      <td>779.0</td>\n",
       "      <td>280.7744</td>\n",
       "      <td>751.0</td>\n",
       "      <td>62.0</td>\n",
       "      <td>...</td>\n",
       "      <td>779.0</td>\n",
       "      <td>641.0</td>\n",
       "      <td>169.159695</td>\n",
       "      <td>167.374163</td>\n",
       "      <td>163.572878</td>\n",
       "      <td>35.331331</td>\n",
       "      <td>174.530905</td>\n",
       "      <td>850.8</td>\n",
       "      <td>93.0</td>\n",
       "      <td>midway</td>\n",
       "    </tr>\n",
       "  </tbody>\n",
       "</table>\n",
       "<p>5 rows × 58 columns</p>\n",
       "</div>"
      ],
      "text/plain": [
       "   0-XNose  0-YNose  1-XNeck  1-YNeck  2-XRShoulder  2-YRShoulder  3-XRElbow  \\\n",
       "1    862.0     93.0    862.0    172.0         800.6         172.0      751.0   \n",
       "2    862.0     81.0    862.0    250.0         800.6         250.0      779.0   \n",
       "3    862.0     81.0    862.0    360.0         800.6         360.0      779.0   \n",
       "4    862.0     81.0    862.0    360.0         800.6         360.0      779.0   \n",
       "5    862.0     93.0    862.0    172.0         800.6         172.0      779.0   \n",
       "\n",
       "   3-YRElbow  4-XRWrist  4-YRWrist   ...    24-XRHeel  24-YRHeel  \\\n",
       "1   280.7744      751.0       78.0   ...        779.0      641.0   \n",
       "2   280.7744      751.0      140.0   ...        779.0      641.0   \n",
       "3   280.7744      751.0      266.0   ...        779.0      641.0   \n",
       "4   280.7744      751.0      281.0   ...        779.0      641.0   \n",
       "5   280.7744      751.0       62.0   ...        779.0      641.0   \n",
       "\n",
       "   RightKneeAngle  LeftKneeAngle  LeftHeelAngleAngle  RightHeelAngleAngle  \\\n",
       "1      169.159695     168.768234          163.721639            24.491026   \n",
       "2      114.423801     139.522454          175.030513            59.463711   \n",
       "3       73.718776      92.307699          175.030513            62.523684   \n",
       "4       73.718776      92.307699          175.030513            62.523684   \n",
       "5      169.159695     167.374163          163.572878            35.331331   \n",
       "\n",
       "     HipAngle  XHead  YHead   label  \n",
       "1  180.000000  850.8   87.0  midway  \n",
       "2  172.184706  850.8  159.8  midway  \n",
       "3  138.814075  850.8  247.4  midway  \n",
       "4  138.814075  850.8  247.4  midway  \n",
       "5  174.530905  850.8   93.0  midway  \n",
       "\n",
       "[5 rows x 58 columns]"
      ]
     },
     "execution_count": 18,
     "metadata": {},
     "output_type": "execute_result"
    }
   ],
   "source": [
    "df=df[:-1]\n",
    "df.head()"
   ]
  },
  {
   "cell_type": "code",
   "execution_count": 19,
   "metadata": {
    "ExecuteTime": {
     "end_time": "2019-02-17T23:55:41.476293Z",
     "start_time": "2019-02-17T23:55:41.429379Z"
    }
   },
   "outputs": [],
   "source": [
    "df['label'] = df['label'].map({'top': 1, 'midway': -1, 'bottom': 0})"
   ]
  },
  {
   "cell_type": "code",
   "execution_count": 20,
   "metadata": {
    "ExecuteTime": {
     "end_time": "2019-02-17T23:55:45.118753Z",
     "start_time": "2019-02-17T23:55:45.100801Z"
    }
   },
   "outputs": [
    {
     "data": {
      "text/html": [
       "<div>\n",
       "<style scoped>\n",
       "    .dataframe tbody tr th:only-of-type {\n",
       "        vertical-align: middle;\n",
       "    }\n",
       "\n",
       "    .dataframe tbody tr th {\n",
       "        vertical-align: top;\n",
       "    }\n",
       "\n",
       "    .dataframe thead th {\n",
       "        text-align: right;\n",
       "    }\n",
       "</style>\n",
       "<table border=\"1\" class=\"dataframe\">\n",
       "  <thead>\n",
       "    <tr style=\"text-align: right;\">\n",
       "      <th></th>\n",
       "      <th>0-XNose</th>\n",
       "      <th>0-YNose</th>\n",
       "      <th>1-XNeck</th>\n",
       "      <th>1-YNeck</th>\n",
       "      <th>2-XRShoulder</th>\n",
       "      <th>2-YRShoulder</th>\n",
       "      <th>3-XRElbow</th>\n",
       "      <th>3-YRElbow</th>\n",
       "      <th>4-XRWrist</th>\n",
       "      <th>4-YRWrist</th>\n",
       "      <th>...</th>\n",
       "      <th>24-XRHeel</th>\n",
       "      <th>24-YRHeel</th>\n",
       "      <th>RightKneeAngle</th>\n",
       "      <th>LeftKneeAngle</th>\n",
       "      <th>LeftHeelAngleAngle</th>\n",
       "      <th>RightHeelAngleAngle</th>\n",
       "      <th>HipAngle</th>\n",
       "      <th>XHead</th>\n",
       "      <th>YHead</th>\n",
       "      <th>label</th>\n",
       "    </tr>\n",
       "  </thead>\n",
       "  <tbody>\n",
       "    <tr>\n",
       "      <th>1</th>\n",
       "      <td>862.0</td>\n",
       "      <td>93.0</td>\n",
       "      <td>862.0</td>\n",
       "      <td>172.0</td>\n",
       "      <td>800.6</td>\n",
       "      <td>172.0</td>\n",
       "      <td>751.0</td>\n",
       "      <td>280.7744</td>\n",
       "      <td>751.0</td>\n",
       "      <td>78.0</td>\n",
       "      <td>...</td>\n",
       "      <td>779.0</td>\n",
       "      <td>641.0</td>\n",
       "      <td>169.159695</td>\n",
       "      <td>168.768234</td>\n",
       "      <td>163.721639</td>\n",
       "      <td>24.491026</td>\n",
       "      <td>180.000000</td>\n",
       "      <td>850.8</td>\n",
       "      <td>87.0</td>\n",
       "      <td>-1</td>\n",
       "    </tr>\n",
       "    <tr>\n",
       "      <th>2</th>\n",
       "      <td>862.0</td>\n",
       "      <td>81.0</td>\n",
       "      <td>862.0</td>\n",
       "      <td>250.0</td>\n",
       "      <td>800.6</td>\n",
       "      <td>250.0</td>\n",
       "      <td>779.0</td>\n",
       "      <td>280.7744</td>\n",
       "      <td>751.0</td>\n",
       "      <td>140.0</td>\n",
       "      <td>...</td>\n",
       "      <td>779.0</td>\n",
       "      <td>641.0</td>\n",
       "      <td>114.423801</td>\n",
       "      <td>139.522454</td>\n",
       "      <td>175.030513</td>\n",
       "      <td>59.463711</td>\n",
       "      <td>172.184706</td>\n",
       "      <td>850.8</td>\n",
       "      <td>159.8</td>\n",
       "      <td>-1</td>\n",
       "    </tr>\n",
       "    <tr>\n",
       "      <th>3</th>\n",
       "      <td>862.0</td>\n",
       "      <td>81.0</td>\n",
       "      <td>862.0</td>\n",
       "      <td>360.0</td>\n",
       "      <td>800.6</td>\n",
       "      <td>360.0</td>\n",
       "      <td>779.0</td>\n",
       "      <td>280.7744</td>\n",
       "      <td>751.0</td>\n",
       "      <td>266.0</td>\n",
       "      <td>...</td>\n",
       "      <td>779.0</td>\n",
       "      <td>641.0</td>\n",
       "      <td>73.718776</td>\n",
       "      <td>92.307699</td>\n",
       "      <td>175.030513</td>\n",
       "      <td>62.523684</td>\n",
       "      <td>138.814075</td>\n",
       "      <td>850.8</td>\n",
       "      <td>247.4</td>\n",
       "      <td>-1</td>\n",
       "    </tr>\n",
       "    <tr>\n",
       "      <th>4</th>\n",
       "      <td>862.0</td>\n",
       "      <td>81.0</td>\n",
       "      <td>862.0</td>\n",
       "      <td>360.0</td>\n",
       "      <td>800.6</td>\n",
       "      <td>360.0</td>\n",
       "      <td>779.0</td>\n",
       "      <td>280.7744</td>\n",
       "      <td>751.0</td>\n",
       "      <td>281.0</td>\n",
       "      <td>...</td>\n",
       "      <td>779.0</td>\n",
       "      <td>641.0</td>\n",
       "      <td>73.718776</td>\n",
       "      <td>92.307699</td>\n",
       "      <td>175.030513</td>\n",
       "      <td>62.523684</td>\n",
       "      <td>138.814075</td>\n",
       "      <td>850.8</td>\n",
       "      <td>247.4</td>\n",
       "      <td>-1</td>\n",
       "    </tr>\n",
       "    <tr>\n",
       "      <th>5</th>\n",
       "      <td>862.0</td>\n",
       "      <td>93.0</td>\n",
       "      <td>862.0</td>\n",
       "      <td>172.0</td>\n",
       "      <td>800.6</td>\n",
       "      <td>172.0</td>\n",
       "      <td>779.0</td>\n",
       "      <td>280.7744</td>\n",
       "      <td>751.0</td>\n",
       "      <td>62.0</td>\n",
       "      <td>...</td>\n",
       "      <td>779.0</td>\n",
       "      <td>641.0</td>\n",
       "      <td>169.159695</td>\n",
       "      <td>167.374163</td>\n",
       "      <td>163.572878</td>\n",
       "      <td>35.331331</td>\n",
       "      <td>174.530905</td>\n",
       "      <td>850.8</td>\n",
       "      <td>93.0</td>\n",
       "      <td>-1</td>\n",
       "    </tr>\n",
       "  </tbody>\n",
       "</table>\n",
       "<p>5 rows × 58 columns</p>\n",
       "</div>"
      ],
      "text/plain": [
       "   0-XNose  0-YNose  1-XNeck  1-YNeck  2-XRShoulder  2-YRShoulder  3-XRElbow  \\\n",
       "1    862.0     93.0    862.0    172.0         800.6         172.0      751.0   \n",
       "2    862.0     81.0    862.0    250.0         800.6         250.0      779.0   \n",
       "3    862.0     81.0    862.0    360.0         800.6         360.0      779.0   \n",
       "4    862.0     81.0    862.0    360.0         800.6         360.0      779.0   \n",
       "5    862.0     93.0    862.0    172.0         800.6         172.0      779.0   \n",
       "\n",
       "   3-YRElbow  4-XRWrist  4-YRWrist  ...    24-XRHeel  24-YRHeel  \\\n",
       "1   280.7744      751.0       78.0  ...        779.0      641.0   \n",
       "2   280.7744      751.0      140.0  ...        779.0      641.0   \n",
       "3   280.7744      751.0      266.0  ...        779.0      641.0   \n",
       "4   280.7744      751.0      281.0  ...        779.0      641.0   \n",
       "5   280.7744      751.0       62.0  ...        779.0      641.0   \n",
       "\n",
       "   RightKneeAngle  LeftKneeAngle  LeftHeelAngleAngle  RightHeelAngleAngle  \\\n",
       "1      169.159695     168.768234          163.721639            24.491026   \n",
       "2      114.423801     139.522454          175.030513            59.463711   \n",
       "3       73.718776      92.307699          175.030513            62.523684   \n",
       "4       73.718776      92.307699          175.030513            62.523684   \n",
       "5      169.159695     167.374163          163.572878            35.331331   \n",
       "\n",
       "     HipAngle  XHead  YHead  label  \n",
       "1  180.000000  850.8   87.0     -1  \n",
       "2  172.184706  850.8  159.8     -1  \n",
       "3  138.814075  850.8  247.4     -1  \n",
       "4  138.814075  850.8  247.4     -1  \n",
       "5  174.530905  850.8   93.0     -1  \n",
       "\n",
       "[5 rows x 58 columns]"
      ]
     },
     "execution_count": 20,
     "metadata": {},
     "output_type": "execute_result"
    }
   ],
   "source": [
    "df.head()"
   ]
  },
  {
   "cell_type": "code",
   "execution_count": 21,
   "metadata": {
    "ExecuteTime": {
     "end_time": "2019-02-17T23:55:48.871335Z",
     "start_time": "2019-02-17T23:55:48.852385Z"
    }
   },
   "outputs": [
    {
     "data": {
      "text/html": [
       "<div>\n",
       "<style scoped>\n",
       "    .dataframe tbody tr th:only-of-type {\n",
       "        vertical-align: middle;\n",
       "    }\n",
       "\n",
       "    .dataframe tbody tr th {\n",
       "        vertical-align: top;\n",
       "    }\n",
       "\n",
       "    .dataframe thead th {\n",
       "        text-align: right;\n",
       "    }\n",
       "</style>\n",
       "<table border=\"1\" class=\"dataframe\">\n",
       "  <thead>\n",
       "    <tr style=\"text-align: right;\">\n",
       "      <th></th>\n",
       "      <th>0-XNose</th>\n",
       "      <th>0-YNose</th>\n",
       "      <th>1-XNeck</th>\n",
       "      <th>1-YNeck</th>\n",
       "      <th>2-XRShoulder</th>\n",
       "      <th>2-YRShoulder</th>\n",
       "      <th>3-XRElbow</th>\n",
       "      <th>3-YRElbow</th>\n",
       "      <th>4-XRWrist</th>\n",
       "      <th>4-YRWrist</th>\n",
       "      <th>...</th>\n",
       "      <th>24-XRHeel</th>\n",
       "      <th>24-YRHeel</th>\n",
       "      <th>RightKneeAngle</th>\n",
       "      <th>LeftKneeAngle</th>\n",
       "      <th>LeftHeelAngleAngle</th>\n",
       "      <th>RightHeelAngleAngle</th>\n",
       "      <th>HipAngle</th>\n",
       "      <th>XHead</th>\n",
       "      <th>YHead</th>\n",
       "      <th>label</th>\n",
       "    </tr>\n",
       "  </thead>\n",
       "  <tbody>\n",
       "    <tr>\n",
       "      <th>1</th>\n",
       "      <td>862.0</td>\n",
       "      <td>93.0</td>\n",
       "      <td>862.0</td>\n",
       "      <td>172.0</td>\n",
       "      <td>800.6</td>\n",
       "      <td>172.0</td>\n",
       "      <td>751.0</td>\n",
       "      <td>280.7744</td>\n",
       "      <td>751.0</td>\n",
       "      <td>78.0</td>\n",
       "      <td>...</td>\n",
       "      <td>779.0</td>\n",
       "      <td>641.0</td>\n",
       "      <td>169.159695</td>\n",
       "      <td>168.768234</td>\n",
       "      <td>163.721639</td>\n",
       "      <td>24.491026</td>\n",
       "      <td>180.000000</td>\n",
       "      <td>850.8</td>\n",
       "      <td>87.0</td>\n",
       "      <td>-1</td>\n",
       "    </tr>\n",
       "    <tr>\n",
       "      <th>2</th>\n",
       "      <td>862.0</td>\n",
       "      <td>81.0</td>\n",
       "      <td>862.0</td>\n",
       "      <td>250.0</td>\n",
       "      <td>800.6</td>\n",
       "      <td>250.0</td>\n",
       "      <td>779.0</td>\n",
       "      <td>280.7744</td>\n",
       "      <td>751.0</td>\n",
       "      <td>140.0</td>\n",
       "      <td>...</td>\n",
       "      <td>779.0</td>\n",
       "      <td>641.0</td>\n",
       "      <td>114.423801</td>\n",
       "      <td>139.522454</td>\n",
       "      <td>175.030513</td>\n",
       "      <td>59.463711</td>\n",
       "      <td>172.184706</td>\n",
       "      <td>850.8</td>\n",
       "      <td>159.8</td>\n",
       "      <td>-1</td>\n",
       "    </tr>\n",
       "    <tr>\n",
       "      <th>3</th>\n",
       "      <td>862.0</td>\n",
       "      <td>81.0</td>\n",
       "      <td>862.0</td>\n",
       "      <td>360.0</td>\n",
       "      <td>800.6</td>\n",
       "      <td>360.0</td>\n",
       "      <td>779.0</td>\n",
       "      <td>280.7744</td>\n",
       "      <td>751.0</td>\n",
       "      <td>266.0</td>\n",
       "      <td>...</td>\n",
       "      <td>779.0</td>\n",
       "      <td>641.0</td>\n",
       "      <td>73.718776</td>\n",
       "      <td>92.307699</td>\n",
       "      <td>175.030513</td>\n",
       "      <td>62.523684</td>\n",
       "      <td>138.814075</td>\n",
       "      <td>850.8</td>\n",
       "      <td>247.4</td>\n",
       "      <td>-1</td>\n",
       "    </tr>\n",
       "    <tr>\n",
       "      <th>4</th>\n",
       "      <td>862.0</td>\n",
       "      <td>81.0</td>\n",
       "      <td>862.0</td>\n",
       "      <td>360.0</td>\n",
       "      <td>800.6</td>\n",
       "      <td>360.0</td>\n",
       "      <td>779.0</td>\n",
       "      <td>280.7744</td>\n",
       "      <td>751.0</td>\n",
       "      <td>281.0</td>\n",
       "      <td>...</td>\n",
       "      <td>779.0</td>\n",
       "      <td>641.0</td>\n",
       "      <td>73.718776</td>\n",
       "      <td>92.307699</td>\n",
       "      <td>175.030513</td>\n",
       "      <td>62.523684</td>\n",
       "      <td>138.814075</td>\n",
       "      <td>850.8</td>\n",
       "      <td>247.4</td>\n",
       "      <td>-1</td>\n",
       "    </tr>\n",
       "    <tr>\n",
       "      <th>5</th>\n",
       "      <td>862.0</td>\n",
       "      <td>93.0</td>\n",
       "      <td>862.0</td>\n",
       "      <td>172.0</td>\n",
       "      <td>800.6</td>\n",
       "      <td>172.0</td>\n",
       "      <td>779.0</td>\n",
       "      <td>280.7744</td>\n",
       "      <td>751.0</td>\n",
       "      <td>62.0</td>\n",
       "      <td>...</td>\n",
       "      <td>779.0</td>\n",
       "      <td>641.0</td>\n",
       "      <td>169.159695</td>\n",
       "      <td>167.374163</td>\n",
       "      <td>163.572878</td>\n",
       "      <td>35.331331</td>\n",
       "      <td>174.530905</td>\n",
       "      <td>850.8</td>\n",
       "      <td>93.0</td>\n",
       "      <td>-1</td>\n",
       "    </tr>\n",
       "  </tbody>\n",
       "</table>\n",
       "<p>5 rows × 58 columns</p>\n",
       "</div>"
      ],
      "text/plain": [
       "   0-XNose  0-YNose  1-XNeck  1-YNeck  2-XRShoulder  2-YRShoulder  3-XRElbow  \\\n",
       "1    862.0     93.0    862.0    172.0         800.6         172.0      751.0   \n",
       "2    862.0     81.0    862.0    250.0         800.6         250.0      779.0   \n",
       "3    862.0     81.0    862.0    360.0         800.6         360.0      779.0   \n",
       "4    862.0     81.0    862.0    360.0         800.6         360.0      779.0   \n",
       "5    862.0     93.0    862.0    172.0         800.6         172.0      779.0   \n",
       "\n",
       "   3-YRElbow  4-XRWrist  4-YRWrist  ...    24-XRHeel  24-YRHeel  \\\n",
       "1   280.7744      751.0       78.0  ...        779.0      641.0   \n",
       "2   280.7744      751.0      140.0  ...        779.0      641.0   \n",
       "3   280.7744      751.0      266.0  ...        779.0      641.0   \n",
       "4   280.7744      751.0      281.0  ...        779.0      641.0   \n",
       "5   280.7744      751.0       62.0  ...        779.0      641.0   \n",
       "\n",
       "   RightKneeAngle  LeftKneeAngle  LeftHeelAngleAngle  RightHeelAngleAngle  \\\n",
       "1      169.159695     168.768234          163.721639            24.491026   \n",
       "2      114.423801     139.522454          175.030513            59.463711   \n",
       "3       73.718776      92.307699          175.030513            62.523684   \n",
       "4       73.718776      92.307699          175.030513            62.523684   \n",
       "5      169.159695     167.374163          163.572878            35.331331   \n",
       "\n",
       "     HipAngle  XHead  YHead  label  \n",
       "1  180.000000  850.8   87.0     -1  \n",
       "2  172.184706  850.8  159.8     -1  \n",
       "3  138.814075  850.8  247.4     -1  \n",
       "4  138.814075  850.8  247.4     -1  \n",
       "5  174.530905  850.8   93.0     -1  \n",
       "\n",
       "[5 rows x 58 columns]"
      ]
     },
     "execution_count": 21,
     "metadata": {},
     "output_type": "execute_result"
    }
   ],
   "source": [
    "df.head()"
   ]
  },
  {
   "cell_type": "code",
   "execution_count": 22,
   "metadata": {
    "ExecuteTime": {
     "end_time": "2019-02-17T23:55:52.675203Z",
     "start_time": "2019-02-17T23:55:52.671180Z"
    }
   },
   "outputs": [],
   "source": [
    "df = df[df.label != -1]"
   ]
  },
  {
   "cell_type": "code",
   "execution_count": 23,
   "metadata": {
    "ExecuteTime": {
     "end_time": "2019-02-17T23:55:56.379271Z",
     "start_time": "2019-02-17T23:55:56.360320Z"
    }
   },
   "outputs": [
    {
     "data": {
      "text/html": [
       "<div>\n",
       "<style scoped>\n",
       "    .dataframe tbody tr th:only-of-type {\n",
       "        vertical-align: middle;\n",
       "    }\n",
       "\n",
       "    .dataframe tbody tr th {\n",
       "        vertical-align: top;\n",
       "    }\n",
       "\n",
       "    .dataframe thead th {\n",
       "        text-align: right;\n",
       "    }\n",
       "</style>\n",
       "<table border=\"1\" class=\"dataframe\">\n",
       "  <thead>\n",
       "    <tr style=\"text-align: right;\">\n",
       "      <th></th>\n",
       "      <th>0-XNose</th>\n",
       "      <th>0-YNose</th>\n",
       "      <th>1-XNeck</th>\n",
       "      <th>1-YNeck</th>\n",
       "      <th>2-XRShoulder</th>\n",
       "      <th>2-YRShoulder</th>\n",
       "      <th>3-XRElbow</th>\n",
       "      <th>3-YRElbow</th>\n",
       "      <th>4-XRWrist</th>\n",
       "      <th>4-YRWrist</th>\n",
       "      <th>...</th>\n",
       "      <th>24-XRHeel</th>\n",
       "      <th>24-YRHeel</th>\n",
       "      <th>RightKneeAngle</th>\n",
       "      <th>LeftKneeAngle</th>\n",
       "      <th>LeftHeelAngleAngle</th>\n",
       "      <th>RightHeelAngleAngle</th>\n",
       "      <th>HipAngle</th>\n",
       "      <th>XHead</th>\n",
       "      <th>YHead</th>\n",
       "      <th>label</th>\n",
       "    </tr>\n",
       "  </thead>\n",
       "  <tbody>\n",
       "    <tr>\n",
       "      <th>9</th>\n",
       "      <td>862.0</td>\n",
       "      <td>81.0</td>\n",
       "      <td>862.0</td>\n",
       "      <td>375.0</td>\n",
       "      <td>800.6</td>\n",
       "      <td>375.0</td>\n",
       "      <td>779.0</td>\n",
       "      <td>280.7744</td>\n",
       "      <td>751.0</td>\n",
       "      <td>281.0</td>\n",
       "      <td>...</td>\n",
       "      <td>779.0</td>\n",
       "      <td>641.0</td>\n",
       "      <td>62.807648</td>\n",
       "      <td>76.087505</td>\n",
       "      <td>174.880037</td>\n",
       "      <td>62.523684</td>\n",
       "      <td>90.000000</td>\n",
       "      <td>850.800000</td>\n",
       "      <td>260.200000</td>\n",
       "      <td>0</td>\n",
       "    </tr>\n",
       "    <tr>\n",
       "      <th>11</th>\n",
       "      <td>862.0</td>\n",
       "      <td>81.0</td>\n",
       "      <td>862.0</td>\n",
       "      <td>203.0</td>\n",
       "      <td>800.6</td>\n",
       "      <td>203.0</td>\n",
       "      <td>779.0</td>\n",
       "      <td>280.7744</td>\n",
       "      <td>751.0</td>\n",
       "      <td>109.0</td>\n",
       "      <td>...</td>\n",
       "      <td>779.0</td>\n",
       "      <td>641.0</td>\n",
       "      <td>143.624669</td>\n",
       "      <td>167.374163</td>\n",
       "      <td>170.003086</td>\n",
       "      <td>47.957168</td>\n",
       "      <td>173.835948</td>\n",
       "      <td>850.800000</td>\n",
       "      <td>109.800000</td>\n",
       "      <td>1</td>\n",
       "    </tr>\n",
       "    <tr>\n",
       "      <th>13</th>\n",
       "      <td>878.8</td>\n",
       "      <td>81.0</td>\n",
       "      <td>856.4</td>\n",
       "      <td>272.0</td>\n",
       "      <td>800.6</td>\n",
       "      <td>272.0</td>\n",
       "      <td>773.4</td>\n",
       "      <td>280.7744</td>\n",
       "      <td>773.4</td>\n",
       "      <td>171.6</td>\n",
       "      <td>...</td>\n",
       "      <td>806.5</td>\n",
       "      <td>649.0</td>\n",
       "      <td>166.376473</td>\n",
       "      <td>137.294100</td>\n",
       "      <td>170.282791</td>\n",
       "      <td>38.774338</td>\n",
       "      <td>148.608949</td>\n",
       "      <td>863.928889</td>\n",
       "      <td>183.109333</td>\n",
       "      <td>0</td>\n",
       "    </tr>\n",
       "    <tr>\n",
       "      <th>14</th>\n",
       "      <td>890.0</td>\n",
       "      <td>78.0</td>\n",
       "      <td>834.0</td>\n",
       "      <td>156.0</td>\n",
       "      <td>800.6</td>\n",
       "      <td>156.0</td>\n",
       "      <td>773.4</td>\n",
       "      <td>280.7744</td>\n",
       "      <td>773.4</td>\n",
       "      <td>62.0</td>\n",
       "      <td>...</td>\n",
       "      <td>834.0</td>\n",
       "      <td>657.0</td>\n",
       "      <td>158.592723</td>\n",
       "      <td>160.385664</td>\n",
       "      <td>168.333152</td>\n",
       "      <td>80.764142</td>\n",
       "      <td>157.893939</td>\n",
       "      <td>868.944000</td>\n",
       "      <td>129.923200</td>\n",
       "      <td>1</td>\n",
       "    </tr>\n",
       "    <tr>\n",
       "      <th>17</th>\n",
       "      <td>890.0</td>\n",
       "      <td>81.0</td>\n",
       "      <td>862.0</td>\n",
       "      <td>360.0</td>\n",
       "      <td>800.6</td>\n",
       "      <td>360.0</td>\n",
       "      <td>773.4</td>\n",
       "      <td>280.7744</td>\n",
       "      <td>773.4</td>\n",
       "      <td>250.0</td>\n",
       "      <td>...</td>\n",
       "      <td>834.0</td>\n",
       "      <td>657.0</td>\n",
       "      <td>61.022272</td>\n",
       "      <td>30.329943</td>\n",
       "      <td>168.541210</td>\n",
       "      <td>107.265927</td>\n",
       "      <td>79.031110</td>\n",
       "      <td>875.522432</td>\n",
       "      <td>207.958490</td>\n",
       "      <td>0</td>\n",
       "    </tr>\n",
       "  </tbody>\n",
       "</table>\n",
       "<p>5 rows × 58 columns</p>\n",
       "</div>"
      ],
      "text/plain": [
       "    0-XNose  0-YNose  1-XNeck  1-YNeck  2-XRShoulder  2-YRShoulder  3-XRElbow  \\\n",
       "9     862.0     81.0    862.0    375.0         800.6         375.0      779.0   \n",
       "11    862.0     81.0    862.0    203.0         800.6         203.0      779.0   \n",
       "13    878.8     81.0    856.4    272.0         800.6         272.0      773.4   \n",
       "14    890.0     78.0    834.0    156.0         800.6         156.0      773.4   \n",
       "17    890.0     81.0    862.0    360.0         800.6         360.0      773.4   \n",
       "\n",
       "    3-YRElbow  4-XRWrist  4-YRWrist  ...    24-XRHeel  24-YRHeel  \\\n",
       "9    280.7744      751.0      281.0  ...        779.0      641.0   \n",
       "11   280.7744      751.0      109.0  ...        779.0      641.0   \n",
       "13   280.7744      773.4      171.6  ...        806.5      649.0   \n",
       "14   280.7744      773.4       62.0  ...        834.0      657.0   \n",
       "17   280.7744      773.4      250.0  ...        834.0      657.0   \n",
       "\n",
       "    RightKneeAngle  LeftKneeAngle  LeftHeelAngleAngle  RightHeelAngleAngle  \\\n",
       "9        62.807648      76.087505          174.880037            62.523684   \n",
       "11      143.624669     167.374163          170.003086            47.957168   \n",
       "13      166.376473     137.294100          170.282791            38.774338   \n",
       "14      158.592723     160.385664          168.333152            80.764142   \n",
       "17       61.022272      30.329943          168.541210           107.265927   \n",
       "\n",
       "      HipAngle       XHead       YHead  label  \n",
       "9    90.000000  850.800000  260.200000      0  \n",
       "11  173.835948  850.800000  109.800000      1  \n",
       "13  148.608949  863.928889  183.109333      0  \n",
       "14  157.893939  868.944000  129.923200      1  \n",
       "17   79.031110  875.522432  207.958490      0  \n",
       "\n",
       "[5 rows x 58 columns]"
      ]
     },
     "execution_count": 23,
     "metadata": {},
     "output_type": "execute_result"
    }
   ],
   "source": [
    "df.head()"
   ]
  },
  {
   "cell_type": "code",
   "execution_count": 24,
   "metadata": {
    "ExecuteTime": {
     "end_time": "2019-02-17T23:56:07.868745Z",
     "start_time": "2019-02-17T23:56:07.862762Z"
    }
   },
   "outputs": [],
   "source": [
    "X = df.loc[:,:'label']\n",
    "y = df.loc[:,'label']\n",
    "# y = to_categorical(y)"
   ]
  },
  {
   "cell_type": "code",
   "execution_count": 25,
   "metadata": {
    "ExecuteTime": {
     "end_time": "2019-02-17T23:56:14.727026Z",
     "start_time": "2019-02-17T23:56:14.458606Z"
    }
   },
   "outputs": [],
   "source": [
    "from sklearn.model_selection import train_test_split\n",
    "X_train, X_test, y_train, y_test = train_test_split(X, y, test_size = 0.2)"
   ]
  },
  {
   "cell_type": "code",
   "execution_count": 26,
   "metadata": {
    "ExecuteTime": {
     "end_time": "2019-02-17T23:56:25.638878Z",
     "start_time": "2019-02-17T23:56:25.635852Z"
    }
   },
   "outputs": [
    {
     "name": "stdout",
     "output_type": "stream",
     "text": [
      "(86, 58)\n"
     ]
    }
   ],
   "source": [
    "print(X_train.shape)"
   ]
  },
  {
   "cell_type": "code",
   "execution_count": 62,
   "metadata": {
    "ExecuteTime": {
     "end_time": "2019-02-18T00:06:30.815619Z",
     "start_time": "2019-02-18T00:06:30.771736Z"
    }
   },
   "outputs": [],
   "source": [
    "model=Sequential()\n",
    "model.add(Dense(64,activation='relu',input_shape=(58,)))\n",
    "# model.add(Dense(64,activation='relu'))\n",
    "# model.add(Dense(32,activation='relu'))\n",
    "# model.add(Dense(16,activation='relu'))\n",
    "# model.add(Dense(8,activation='relu'))\n",
    "model.add(Dense(4,activation='relu'))\n",
    "model.add(Dense(1,activation='sigmoid'))"
   ]
  },
  {
   "cell_type": "code",
   "execution_count": 63,
   "metadata": {
    "ExecuteTime": {
     "end_time": "2019-02-18T00:06:42.214373Z",
     "start_time": "2019-02-18T00:06:42.084720Z"
    }
   },
   "outputs": [
    {
     "name": "stdout",
     "output_type": "stream",
     "text": [
      "_________________________________________________________________\n",
      "Layer (type)                 Output Shape              Param #   \n",
      "=================================================================\n",
      "dense_17 (Dense)             (None, 64)                3776      \n",
      "_________________________________________________________________\n",
      "dense_18 (Dense)             (None, 4)                 260       \n",
      "_________________________________________________________________\n",
      "dense_19 (Dense)             (None, 1)                 5         \n",
      "=================================================================\n",
      "Total params: 4,041\n",
      "Trainable params: 4,041\n",
      "Non-trainable params: 0\n",
      "_________________________________________________________________\n"
     ]
    }
   ],
   "source": [
    "model.compile(optimizer='adam',loss='binary_crossentropy',metrics=['accuracy'])\n",
    "model.summary()"
   ]
  },
  {
   "cell_type": "code",
   "execution_count": 65,
   "metadata": {
    "ExecuteTime": {
     "end_time": "2019-02-18T00:07:07.687798Z",
     "start_time": "2019-02-18T00:07:06.468016Z"
    }
   },
   "outputs": [
    {
     "name": "stdout",
     "output_type": "stream",
     "text": [
      "Train on 86 samples, validate on 22 samples\n",
      "Epoch 1/100\n",
      "86/86 [==============================] - 0s 139us/step - loss: 4.4483 - acc: 0.5000 - val_loss: 3.7199 - val_acc: 0.4545\n",
      "Epoch 2/100\n",
      "86/86 [==============================] - 0s 128us/step - loss: 3.6949 - acc: 0.5233 - val_loss: 3.7801 - val_acc: 0.4545\n",
      "Epoch 3/100\n",
      "86/86 [==============================] - 0s 128us/step - loss: 3.5078 - acc: 0.5000 - val_loss: 3.7710 - val_acc: 0.5455\n",
      "Epoch 4/100\n",
      "86/86 [==============================] - 0s 139us/step - loss: 3.1885 - acc: 0.5581 - val_loss: 3.9109 - val_acc: 0.4545\n",
      "Epoch 5/100\n",
      "86/86 [==============================] - 0s 151us/step - loss: 2.9997 - acc: 0.6047 - val_loss: 3.6454 - val_acc: 0.5000\n",
      "Epoch 6/100\n",
      "86/86 [==============================] - 0s 127us/step - loss: 2.9563 - acc: 0.5349 - val_loss: 3.4414 - val_acc: 0.4545\n",
      "Epoch 7/100\n",
      "86/86 [==============================] - 0s 128us/step - loss: 2.8509 - acc: 0.5349 - val_loss: 3.1899 - val_acc: 0.4091\n",
      "Epoch 8/100\n",
      "86/86 [==============================] - 0s 127us/step - loss: 2.6491 - acc: 0.5581 - val_loss: 3.2185 - val_acc: 0.5000\n",
      "Epoch 9/100\n",
      "86/86 [==============================] - 0s 127us/step - loss: 2.8760 - acc: 0.5581 - val_loss: 3.2265 - val_acc: 0.5455\n",
      "Epoch 10/100\n",
      "86/86 [==============================] - 0s 127us/step - loss: 2.7174 - acc: 0.5116 - val_loss: 2.9494 - val_acc: 0.4545\n",
      "Epoch 11/100\n",
      "86/86 [==============================] - 0s 128us/step - loss: 2.6281 - acc: 0.5814 - val_loss: 2.5808 - val_acc: 0.5000\n",
      "Epoch 12/100\n",
      "86/86 [==============================] - 0s 128us/step - loss: 2.3703 - acc: 0.5698 - val_loss: 3.2164 - val_acc: 0.5000\n",
      "Epoch 13/100\n",
      "86/86 [==============================] - 0s 128us/step - loss: 2.0646 - acc: 0.5698 - val_loss: 2.7715 - val_acc: 0.5455\n",
      "Epoch 14/100\n",
      "86/86 [==============================] - 0s 128us/step - loss: 2.0818 - acc: 0.6047 - val_loss: 3.9764 - val_acc: 0.5909\n",
      "Epoch 15/100\n",
      "86/86 [==============================] - 0s 162us/step - loss: 3.1883 - acc: 0.5814 - val_loss: 3.1867 - val_acc: 0.5000\n",
      "Epoch 16/100\n",
      "86/86 [==============================] - 0s 128us/step - loss: 2.4989 - acc: 0.6047 - val_loss: 4.2197 - val_acc: 0.5000\n",
      "Epoch 17/100\n",
      "86/86 [==============================] - 0s 128us/step - loss: 2.5461 - acc: 0.6512 - val_loss: 3.4114 - val_acc: 0.5455\n",
      "Epoch 18/100\n",
      "86/86 [==============================] - 0s 127us/step - loss: 3.3588 - acc: 0.5814 - val_loss: 3.6080 - val_acc: 0.5000\n",
      "Epoch 19/100\n",
      "86/86 [==============================] - 0s 127us/step - loss: 2.4604 - acc: 0.6047 - val_loss: 4.4618 - val_acc: 0.5000\n",
      "Epoch 20/100\n",
      "86/86 [==============================] - 0s 139us/step - loss: 2.5701 - acc: 0.6163 - val_loss: 3.0609 - val_acc: 0.5455\n",
      "Epoch 21/100\n",
      "86/86 [==============================] - 0s 128us/step - loss: 2.6981 - acc: 0.5814 - val_loss: 2.1290 - val_acc: 0.5000\n",
      "Epoch 22/100\n",
      "86/86 [==============================] - 0s 151us/step - loss: 1.5292 - acc: 0.6744 - val_loss: 2.0430 - val_acc: 0.5455\n",
      "Epoch 23/100\n",
      "86/86 [==============================] - 0s 127us/step - loss: 1.1190 - acc: 0.6744 - val_loss: 1.9870 - val_acc: 0.5455\n",
      "Epoch 24/100\n",
      "86/86 [==============================] - 0s 128us/step - loss: 0.9040 - acc: 0.6744 - val_loss: 1.9122 - val_acc: 0.5455\n",
      "Epoch 25/100\n",
      "86/86 [==============================] - 0s 116us/step - loss: 0.8542 - acc: 0.6860 - val_loss: 1.9054 - val_acc: 0.5455\n",
      "Epoch 26/100\n",
      "86/86 [==============================] - 0s 139us/step - loss: 0.8703 - acc: 0.7093 - val_loss: 1.7643 - val_acc: 0.5909\n",
      "Epoch 27/100\n",
      "86/86 [==============================] - 0s 127us/step - loss: 1.0252 - acc: 0.7209 - val_loss: 1.8509 - val_acc: 0.5455\n",
      "Epoch 28/100\n",
      "86/86 [==============================] - 0s 116us/step - loss: 1.0127 - acc: 0.7093 - val_loss: 1.7113 - val_acc: 0.5000\n",
      "Epoch 29/100\n",
      "86/86 [==============================] - 0s 128us/step - loss: 1.1021 - acc: 0.6977 - val_loss: 1.7139 - val_acc: 0.5455\n",
      "Epoch 30/100\n",
      "86/86 [==============================] - 0s 128us/step - loss: 0.8514 - acc: 0.7791 - val_loss: 2.4946 - val_acc: 0.5909\n",
      "Epoch 31/100\n",
      "86/86 [==============================] - 0s 151us/step - loss: 0.9850 - acc: 0.7326 - val_loss: 1.9051 - val_acc: 0.5455\n",
      "Epoch 32/100\n",
      "86/86 [==============================] - 0s 140us/step - loss: 1.0261 - acc: 0.7442 - val_loss: 2.1408 - val_acc: 0.5000\n",
      "Epoch 33/100\n",
      "86/86 [==============================] - 0s 139us/step - loss: 1.2145 - acc: 0.7093 - val_loss: 1.8809 - val_acc: 0.5455\n",
      "Epoch 34/100\n",
      "86/86 [==============================] - 0s 128us/step - loss: 1.0561 - acc: 0.7326 - val_loss: 1.8304 - val_acc: 0.5455\n",
      "Epoch 35/100\n",
      "86/86 [==============================] - 0s 116us/step - loss: 0.6610 - acc: 0.7442 - val_loss: 2.0832 - val_acc: 0.5000\n",
      "Epoch 36/100\n",
      "86/86 [==============================] - 0s 128us/step - loss: 0.8691 - acc: 0.7093 - val_loss: 1.8277 - val_acc: 0.5455\n",
      "Epoch 37/100\n",
      "86/86 [==============================] - 0s 151us/step - loss: 0.7513 - acc: 0.6977 - val_loss: 1.8429 - val_acc: 0.5455\n",
      "Epoch 38/100\n",
      "86/86 [==============================] - 0s 140us/step - loss: 0.7430 - acc: 0.7209 - val_loss: 1.8482 - val_acc: 0.5455\n",
      "Epoch 39/100\n",
      "86/86 [==============================] - 0s 127us/step - loss: 0.6035 - acc: 0.7558 - val_loss: 1.8883 - val_acc: 0.5455\n",
      "Epoch 40/100\n",
      "86/86 [==============================] - 0s 128us/step - loss: 0.5590 - acc: 0.7558 - val_loss: 1.7878 - val_acc: 0.5000\n",
      "Epoch 41/100\n",
      "86/86 [==============================] - 0s 139us/step - loss: 0.6356 - acc: 0.7558 - val_loss: 1.9600 - val_acc: 0.5000\n",
      "Epoch 42/100\n",
      "86/86 [==============================] - 0s 139us/step - loss: 0.6567 - acc: 0.7674 - val_loss: 1.7799 - val_acc: 0.5455\n",
      "Epoch 43/100\n",
      "86/86 [==============================] - 0s 128us/step - loss: 0.5461 - acc: 0.7442 - val_loss: 1.7564 - val_acc: 0.5455\n",
      "Epoch 44/100\n",
      "86/86 [==============================] - 0s 151us/step - loss: 0.5402 - acc: 0.7093 - val_loss: 1.7802 - val_acc: 0.5455\n",
      "Epoch 45/100\n",
      "86/86 [==============================] - 0s 116us/step - loss: 0.5243 - acc: 0.7442 - val_loss: 1.7393 - val_acc: 0.5455\n",
      "Epoch 46/100\n",
      "86/86 [==============================] - 0s 127us/step - loss: 0.5357 - acc: 0.7442 - val_loss: 1.7494 - val_acc: 0.5455\n",
      "Epoch 47/100\n",
      "86/86 [==============================] - 0s 128us/step - loss: 0.4971 - acc: 0.7442 - val_loss: 1.6994 - val_acc: 0.5455\n",
      "Epoch 48/100\n",
      "86/86 [==============================] - 0s 128us/step - loss: 0.5016 - acc: 0.7442 - val_loss: 1.6608 - val_acc: 0.5909\n",
      "Epoch 49/100\n",
      "86/86 [==============================] - 0s 128us/step - loss: 0.4943 - acc: 0.7442 - val_loss: 1.6714 - val_acc: 0.5455\n",
      "Epoch 50/100\n",
      "86/86 [==============================] - 0s 150us/step - loss: 0.4797 - acc: 0.7558 - val_loss: 1.6352 - val_acc: 0.5909\n",
      "Epoch 51/100\n",
      "86/86 [==============================] - 0s 127us/step - loss: 0.5052 - acc: 0.7674 - val_loss: 1.6766 - val_acc: 0.5455\n",
      "Epoch 52/100\n",
      "86/86 [==============================] - 0s 139us/step - loss: 0.5727 - acc: 0.7558 - val_loss: 1.6466 - val_acc: 0.5909\n",
      "Epoch 53/100\n",
      "86/86 [==============================] - 0s 151us/step - loss: 0.5386 - acc: 0.7326 - val_loss: 1.6259 - val_acc: 0.5455\n",
      "Epoch 54/100\n",
      "86/86 [==============================] - 0s 127us/step - loss: 0.5384 - acc: 0.7558 - val_loss: 1.6594 - val_acc: 0.5455\n",
      "Epoch 55/100\n",
      "86/86 [==============================] - 0s 116us/step - loss: 0.4605 - acc: 0.7326 - val_loss: 1.6262 - val_acc: 0.5455\n",
      "Epoch 56/100\n",
      "86/86 [==============================] - 0s 140us/step - loss: 0.5033 - acc: 0.7326 - val_loss: 1.6408 - val_acc: 0.5909\n",
      "Epoch 57/100\n",
      "86/86 [==============================] - 0s 139us/step - loss: 0.4274 - acc: 0.8023 - val_loss: 1.6726 - val_acc: 0.6364\n",
      "Epoch 58/100\n",
      "86/86 [==============================] - 0s 116us/step - loss: 0.4784 - acc: 0.7907 - val_loss: 1.6220 - val_acc: 0.5909\n",
      "Epoch 59/100\n",
      "86/86 [==============================] - 0s 128us/step - loss: 0.4502 - acc: 0.7791 - val_loss: 1.5877 - val_acc: 0.5909\n",
      "Epoch 60/100\n",
      "86/86 [==============================] - 0s 151us/step - loss: 0.4884 - acc: 0.7442 - val_loss: 1.5806 - val_acc: 0.5455\n",
      "Epoch 61/100\n",
      "86/86 [==============================] - 0s 115us/step - loss: 0.4983 - acc: 0.7442 - val_loss: 1.5835 - val_acc: 0.5909\n"
     ]
    },
    {
     "name": "stdout",
     "output_type": "stream",
     "text": [
      "Epoch 62/100\n",
      "86/86 [==============================] - 0s 128us/step - loss: 0.4619 - acc: 0.8140 - val_loss: 1.6297 - val_acc: 0.5909\n",
      "Epoch 63/100\n",
      "86/86 [==============================] - 0s 128us/step - loss: 0.3890 - acc: 0.8256 - val_loss: 1.7720 - val_acc: 0.5909\n",
      "Epoch 64/100\n",
      "86/86 [==============================] - 0s 139us/step - loss: 0.4272 - acc: 0.8256 - val_loss: 1.7149 - val_acc: 0.5909\n",
      "Epoch 65/100\n",
      "86/86 [==============================] - 0s 116us/step - loss: 0.6032 - acc: 0.7674 - val_loss: 1.7046 - val_acc: 0.6364\n",
      "Epoch 66/100\n",
      "86/86 [==============================] - 0s 139us/step - loss: 0.5829 - acc: 0.7558 - val_loss: 1.7076 - val_acc: 0.5909\n",
      "Epoch 67/100\n",
      "86/86 [==============================] - 0s 151us/step - loss: 0.5685 - acc: 0.8023 - val_loss: 1.5805 - val_acc: 0.5909\n",
      "Epoch 68/100\n",
      "86/86 [==============================] - 0s 128us/step - loss: 0.3916 - acc: 0.8023 - val_loss: 1.5227 - val_acc: 0.5455\n",
      "Epoch 69/100\n",
      "86/86 [==============================] - 0s 140us/step - loss: 0.4521 - acc: 0.7791 - val_loss: 1.4554 - val_acc: 0.5455\n",
      "Epoch 70/100\n",
      "86/86 [==============================] - 0s 151us/step - loss: 0.3900 - acc: 0.8140 - val_loss: 1.4685 - val_acc: 0.5455\n",
      "Epoch 71/100\n",
      "86/86 [==============================] - 0s 162us/step - loss: 0.3974 - acc: 0.7907 - val_loss: 1.4485 - val_acc: 0.5909\n",
      "Epoch 72/100\n",
      "86/86 [==============================] - 0s 162us/step - loss: 0.4285 - acc: 0.8023 - val_loss: 1.4426 - val_acc: 0.5455\n",
      "Epoch 73/100\n",
      "86/86 [==============================] - 0s 151us/step - loss: 0.4018 - acc: 0.7791 - val_loss: 1.4440 - val_acc: 0.5909\n",
      "Epoch 74/100\n",
      "86/86 [==============================] - 0s 127us/step - loss: 0.3770 - acc: 0.8023 - val_loss: 1.4744 - val_acc: 0.5455\n",
      "Epoch 75/100\n",
      "86/86 [==============================] - 0s 139us/step - loss: 0.3833 - acc: 0.8140 - val_loss: 1.5184 - val_acc: 0.5455\n",
      "Epoch 76/100\n",
      "86/86 [==============================] - 0s 151us/step - loss: 0.3951 - acc: 0.8023 - val_loss: 1.4966 - val_acc: 0.5455\n",
      "Epoch 77/100\n",
      "86/86 [==============================] - 0s 128us/step - loss: 0.3677 - acc: 0.8372 - val_loss: 1.4987 - val_acc: 0.5455\n",
      "Epoch 78/100\n",
      "86/86 [==============================] - 0s 128us/step - loss: 0.3406 - acc: 0.8140 - val_loss: 1.6025 - val_acc: 0.6364\n",
      "Epoch 79/100\n",
      "86/86 [==============================] - 0s 116us/step - loss: 0.3891 - acc: 0.8140 - val_loss: 1.5380 - val_acc: 0.5909\n",
      "Epoch 80/100\n",
      "86/86 [==============================] - 0s 150us/step - loss: 0.4030 - acc: 0.7907 - val_loss: 1.4062 - val_acc: 0.5455\n",
      "Epoch 81/100\n",
      "86/86 [==============================] - 0s 151us/step - loss: 0.3731 - acc: 0.8256 - val_loss: 1.4192 - val_acc: 0.5455\n",
      "Epoch 82/100\n",
      "86/86 [==============================] - 0s 127us/step - loss: 0.3966 - acc: 0.7791 - val_loss: 1.3940 - val_acc: 0.5909\n",
      "Epoch 83/100\n",
      "86/86 [==============================] - 0s 139us/step - loss: 0.3990 - acc: 0.8140 - val_loss: 1.4125 - val_acc: 0.5455\n",
      "Epoch 84/100\n",
      "86/86 [==============================] - 0s 151us/step - loss: 0.3383 - acc: 0.8488 - val_loss: 1.4732 - val_acc: 0.5455\n",
      "Epoch 85/100\n",
      "86/86 [==============================] - 0s 151us/step - loss: 0.3319 - acc: 0.8256 - val_loss: 1.5441 - val_acc: 0.6364\n",
      "Epoch 86/100\n",
      "86/86 [==============================] - 0s 128us/step - loss: 0.3390 - acc: 0.8256 - val_loss: 1.4820 - val_acc: 0.6364\n",
      "Epoch 87/100\n",
      "86/86 [==============================] - 0s 127us/step - loss: 0.3371 - acc: 0.8140 - val_loss: 1.3520 - val_acc: 0.5455\n",
      "Epoch 88/100\n",
      "86/86 [==============================] - 0s 128us/step - loss: 0.3215 - acc: 0.8256 - val_loss: 1.2891 - val_acc: 0.5455\n",
      "Epoch 89/100\n",
      "86/86 [==============================] - 0s 139us/step - loss: 0.3239 - acc: 0.8372 - val_loss: 1.2576 - val_acc: 0.5455\n",
      "Epoch 90/100\n",
      "86/86 [==============================] - 0s 150us/step - loss: 0.3307 - acc: 0.8372 - val_loss: 1.2455 - val_acc: 0.5909\n",
      "Epoch 91/100\n",
      "86/86 [==============================] - 0s 139us/step - loss: 0.3173 - acc: 0.8256 - val_loss: 1.2412 - val_acc: 0.6364\n",
      "Epoch 92/100\n",
      "86/86 [==============================] - 0s 128us/step - loss: 0.3209 - acc: 0.8256 - val_loss: 1.2859 - val_acc: 0.5909\n",
      "Epoch 93/100\n",
      "86/86 [==============================] - 0s 127us/step - loss: 0.3696 - acc: 0.7791 - val_loss: 1.2834 - val_acc: 0.6364\n",
      "Epoch 94/100\n",
      "86/86 [==============================] - 0s 127us/step - loss: 0.3116 - acc: 0.8372 - val_loss: 1.3030 - val_acc: 0.5455\n",
      "Epoch 95/100\n",
      "86/86 [==============================] - 0s 151us/step - loss: 0.3151 - acc: 0.8256 - val_loss: 1.3310 - val_acc: 0.5455\n",
      "Epoch 96/100\n",
      "86/86 [==============================] - 0s 162us/step - loss: 0.3054 - acc: 0.8256 - val_loss: 1.3827 - val_acc: 0.6364\n",
      "Epoch 97/100\n",
      "86/86 [==============================] - 0s 128us/step - loss: 0.3564 - acc: 0.8140 - val_loss: 1.3973 - val_acc: 0.5909\n",
      "Epoch 98/100\n",
      "86/86 [==============================] - 0s 127us/step - loss: 0.3392 - acc: 0.7791 - val_loss: 1.4038 - val_acc: 0.6364\n",
      "Epoch 99/100\n",
      "86/86 [==============================] - 0s 140us/step - loss: 0.2982 - acc: 0.8605 - val_loss: 1.3561 - val_acc: 0.5909\n",
      "Epoch 100/100\n",
      "86/86 [==============================] - 0s 139us/step - loss: 0.3708 - acc: 0.7907 - val_loss: 1.4871 - val_acc: 0.5909\n"
     ]
    }
   ],
   "source": [
    "history=model.fit(X_train,y_train,epochs=100,validation_data=(X_test,y_test))"
   ]
  },
  {
   "cell_type": "code",
   "execution_count": 66,
   "metadata": {
    "ExecuteTime": {
     "end_time": "2019-02-18T00:07:19.048047Z",
     "start_time": "2019-02-18T00:07:19.045055Z"
    }
   },
   "outputs": [
    {
     "name": "stdout",
     "output_type": "stream",
     "text": [
      "[0.5000000034653863, 0.5232558174188747, 0.49999999722769095, 0.5581395390421845, 0.6046511669491612, 0.5348837237025417, 0.5348837264748507, 0.5581395390421845, 0.5581395348837209, 0.5116279111352078, 0.5813953523025956, 0.5697674453258514, 0.5697674432466197, 0.6046511669491612, 0.5813953460649003, 0.6046511600183886, 0.6511627893115199, 0.5813953529956729, 0.6046511627906976, 0.6162790669951328, 0.5813953529956729, 0.6744186018788537, 0.6744186101957809, 0.6744185977203901, 0.6860465171725251, 0.7093023269675499, 0.7209302339442941, 0.7093023200367772, 0.6976744227631148, 0.7790697702141696, 0.7325581339902656, 0.7441860451254734, 0.7093023269675499, 0.7325581409210382, 0.7441860409670098, 0.7093023200367772, 0.6976744241492693, 0.7209302270135214, 0.755813947943754, 0.7558139465575995, 0.7558139521022176, 0.7674418576928073, 0.7441860437393188, 0.709302332512168, 0.7441860451254734, 0.7441860451254734, 0.7441860451254734, 0.744186052056246, 0.7441860409670098, 0.755813947943754, 0.7674418535343436, 0.755813947943754, 0.7325581339902656, 0.7558139604191447, 0.7325581381487292, 0.7325581450795018, 0.8023255841676579, 0.7906976688739865, 0.7790697618972423, 0.7441860437393188, 0.7441860478977824, 0.8139534828274749, 0.8255814022796099, 0.8255813911903737, 0.7674418590789618, 0.7558139590329902, 0.8023255800091943, 0.8023255800091943, 0.7790697729864786, 0.8139534911444021, 0.7906976771909137, 0.8023255869399669, 0.7790697618972423, 0.8023255758507307, 0.8139534911444021, 0.8023255800091943, 0.8372093009394269, 0.8139534869859385, 0.8139534939167111, 0.7906976771909137, 0.8255814008934553, 0.7790697702141696, 0.8139534939167111, 0.8488372148469437, 0.8255813981211463, 0.8255814008934553, 0.8139534828274749, 0.8255813898042191, 0.8372092967809632, 0.8372093078701995, 0.8255813981211463, 0.8255813939626827, 0.7790697702141696, 0.8372093009394269, 0.8255813939626827, 0.8255813981211463, 0.8139534897582476, 0.7790697618972423, 0.8604651190513788, 0.790697670260141]\n"
     ]
    }
   ],
   "source": [
    "print(history.history['acc'])"
   ]
  },
  {
   "cell_type": "code",
   "execution_count": 67,
   "metadata": {
    "ExecuteTime": {
     "end_time": "2019-02-18T00:07:30.317940Z",
     "start_time": "2019-02-18T00:07:30.205210Z"
    }
   },
   "outputs": [
    {
     "data": {
      "text/plain": [
       "[<matplotlib.lines.Line2D at 0x243794af358>]"
      ]
     },
     "execution_count": 67,
     "metadata": {},
     "output_type": "execute_result"
    },
    {
     "data": {
      "image/png": "[encoded data removed]",
      "text/plain": [
       "<Figure size 432x288 with 1 Axes>"
      ]
     },
     "metadata": {
      "needs_background": "light"
     },
     "output_type": "display_data"
    }
   ],
   "source": [
    "plt.plot(history.history['acc'])"
   ]
  },
  {
   "cell_type": "code",
   "execution_count": 68,
   "metadata": {
    "ExecuteTime": {
     "end_time": "2019-02-18T00:07:41.638697Z",
     "start_time": "2019-02-18T00:07:41.536969Z"
    }
   },
   "outputs": [
    {
     "data": {
      "text/plain": [
       "[<matplotlib.lines.Line2D at 0x2437954e4e0>]"
      ]
     },
     "execution_count": 68,
     "metadata": {},
     "output_type": "execute_result"
    },
    {
     "data": {
      "image/png": "[encoded data removed]",
      "text/plain": [
       "<Figure size 432x288 with 1 Axes>"
      ]
     },
     "metadata": {
      "needs_background": "light"
     },
     "output_type": "display_data"
    }
   ],
   "source": [
    "plt.plot(history.history['val_acc'])"
   ]
  },
  {
   "cell_type": "markdown",
   "metadata": {
    "ExecuteTime": {
     "end_time": "2019-01-12T19:00:12.220892Z",
     "start_time": "2019-01-12T19:00:12.216902Z"
    }
   },
   "source": [
    "#### Next steps are to add additional data with this movement and make the model more general possibly with additional movements and/or angles, at the moment we can achieve perfect accuracy with neural net"
   ]
  },
  {
   "cell_type": "code",
   "execution_count": 60,
   "metadata": {
    "ExecuteTime": {
     "end_time": "2019-02-18T00:06:02.460727Z",
     "start_time": "2019-02-18T00:06:02.444746Z"
    }
   },
   "outputs": [
    {
     "name": "stdout",
     "output_type": "stream",
     "text": [
      "[302.02316975 133.3665034  294.00532066 158.76444919 263.94233298\n",
      " 170.17501397 264.         224.16       235.5466503  180.57752517\n",
      " 321.24043636 139.72002149 322.30228909 148.22439542 372.19989482\n",
      " 107.40022404 253.0588811  205.73993042 180.1273813  253.2\n",
      " 179.87101818 251.19625535 194.         266.         295.09388365\n",
      " 191.05410806  99.39692945 296.06794318 216.33261168 263.33356426\n",
      " 319.77731694 142.48536364 311.4438028  126.077264   329.38285973\n",
      " 115.13324766 294.23329696 120.42346049 270.13324815 259.80007532\n",
      " 307.20152864 257.46684502 333.         254.80015619 222.\n",
      " 273.         208.         273.         194.         273.\n",
      "  36.37307486  12.57986684  77.78765418  42.87249709 161.98047456\n",
      " 311.37208923 127.49716784   0.        ]\n"
     ]
    },
    {
     "data": {
      "text/plain": [
       "array([[0.00758884]], dtype=float32)"
      ]
     },
     "execution_count": 60,
     "metadata": {},
     "output_type": "execute_result"
    }
   ],
   "source": [
    "print(X.iloc[101].values)\n",
    "model.predict(X.iloc[101].values.reshape(1,-1))"
   ]
  },
  {
   "cell_type": "code",
   "execution_count": 61,
   "metadata": {
    "ExecuteTime": {
     "end_time": "2019-02-18T00:06:13.607191Z",
     "start_time": "2019-02-18T00:06:13.604200Z"
    }
   },
   "outputs": [
    {
     "name": "stdout",
     "output_type": "stream",
     "text": [
      "0\n"
     ]
    }
   ],
   "source": [
    "print(y[101])"
   ]
  },
  {
   "cell_type": "code",
   "execution_count": null,
   "metadata": {},
   "outputs": [],
   "source": []
  }
 ],
 "metadata": {
  "kernelspec": {
   "display_name": "Python 3",
   "language": "python",
   "name": "python3"
  },
  "language_info": {
   "codemirror_mode": {
    "name": "ipython",
    "version": 3
   },
   "file_extension": ".py",
   "mimetype": "text/x-python",
   "name": "python",
   "nbconvert_exporter": "python",
   "pygments_lexer": "ipython3",
   "version": "3.6.6"
  },
  "toc": {
   "base_numbering": 1,
   "nav_menu": {},
   "number_sections": true,
   "sideBar": true,
   "skip_h1_title": false,
   "title_cell": "Table of Contents",
   "title_sidebar": "Contents",
   "toc_cell": false,
   "toc_position": {},
   "toc_section_display": true,
   "toc_window_display": false
  },
  "varInspector": {
   "cols": {
    "lenName": 16,
    "lenType": 16,
    "lenVar": 40
   },
   "kernels_config": {
    "python": {
     "delete_cmd_postfix": "",
     "delete_cmd_prefix": "del ",
     "library": "var_list.py",
     "varRefreshCmd": "print(var_dic_list())"
    },
    "r": {
     "delete_cmd_postfix": ") ",
     "delete_cmd_prefix": "rm(",
     "library": "var_list.r",
     "varRefreshCmd": "cat(var_dic_list()) "
    }
   },
   "types_to_exclude": [
    "module",
    "function",
    "builtin_function_or_method",
    "instance",
    "_Feature"
   ],
   "window_display": true
  }
 },
 "nbformat": 4,
 "nbformat_minor": 2
}
