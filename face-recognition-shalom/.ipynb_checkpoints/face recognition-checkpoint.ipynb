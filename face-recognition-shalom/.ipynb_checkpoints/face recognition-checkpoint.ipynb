{
 "cells": [
  {
   "cell_type": "code",
   "execution_count": 4,
   "metadata": {},
   "outputs": [
    {
     "ename": "IndexError",
     "evalue": "list index out of range",
     "output_type": "error",
     "traceback": [
      "\u001b[0;31m---------------------------------------------------------------------------\u001b[0m",
      "\u001b[0;31mIndexError\u001b[0m                                Traceback (most recent call last)",
      "\u001b[0;32m<ipython-input-4-7aa3b2623bb9>\u001b[0m in \u001b[0;36m<module>\u001b[0;34m\u001b[0m\n\u001b[1;32m      5\u001b[0m \u001b[0;34m\u001b[0m\u001b[0m\n\u001b[1;32m      6\u001b[0m \u001b[0mbiden_encoding\u001b[0m \u001b[0;34m=\u001b[0m \u001b[0mface_recognition\u001b[0m\u001b[0;34m.\u001b[0m\u001b[0mface_encodings\u001b[0m\u001b[0;34m(\u001b[0m\u001b[0mknown_image\u001b[0m\u001b[0;34m)\u001b[0m\u001b[0;34m[\u001b[0m\u001b[0;36m0\u001b[0m\u001b[0;34m]\u001b[0m\u001b[0;34m\u001b[0m\u001b[0m\n\u001b[0;32m----> 7\u001b[0;31m \u001b[0munknown_encoding\u001b[0m \u001b[0;34m=\u001b[0m \u001b[0mface_recognition\u001b[0m\u001b[0;34m.\u001b[0m\u001b[0mface_encodings\u001b[0m\u001b[0;34m(\u001b[0m\u001b[0munknown_image\u001b[0m\u001b[0;34m)\u001b[0m\u001b[0;34m[\u001b[0m\u001b[0;36m0\u001b[0m\u001b[0;34m]\u001b[0m\u001b[0;34m\u001b[0m\u001b[0m\n\u001b[0m\u001b[1;32m      8\u001b[0m \u001b[0;34m\u001b[0m\u001b[0m\n\u001b[1;32m      9\u001b[0m \u001b[0;31m# results = face_recognition.compare_faces([biden_encoding], unknown_encoding)\u001b[0m\u001b[0;34m\u001b[0m\u001b[0;34m\u001b[0m\u001b[0m\n",
      "\u001b[0;31mIndexError\u001b[0m: list index out of range"
     ]
    }
   ],
   "source": [
    "import face_recognition\n",
    "\n",
    "known_image = face_recognition.load_image_file(\"shalom.jpg\")\n",
    "unknown_image = face_recognition.load_image_file(\"unknown.jpg\")\n",
    "\n",
    "# biden_encoding = face_recognition.face_encodings(known_image)[0]\n",
    "# unknown_encoding = face_recognition.face_encodings(unknown_image)[0]\n",
    "\n",
    "# results = face_recognition.compare_faces([biden_encoding], unknown_encoding)"
   ]
  },
  {
   "cell_type": "code",
   "execution_count": 8,
   "metadata": {},
   "outputs": [
    {
     "data": {
      "text/plain": [
       "array([[[185, 199, 202],\n",
       "        [186, 200, 203],\n",
       "        [186, 200, 203],\n",
       "        ...,\n",
       "        [140, 149, 154],\n",
       "        [139, 148, 153],\n",
       "        [139, 148, 153]],\n",
       "\n",
       "       [[185, 199, 202],\n",
       "        [186, 200, 203],\n",
       "        [187, 201, 204],\n",
       "        ...,\n",
       "        [139, 148, 153],\n",
       "        [138, 147, 152],\n",
       "        [138, 147, 152]],\n",
       "\n",
       "       [[186, 200, 203],\n",
       "        [186, 200, 203],\n",
       "        [187, 201, 204],\n",
       "        ...,\n",
       "        [137, 146, 151],\n",
       "        [137, 146, 151],\n",
       "        [137, 146, 151]],\n",
       "\n",
       "       ...,\n",
       "\n",
       "       [[ 83,  61,  40],\n",
       "        [ 83,  61,  40],\n",
       "        [ 82,  61,  40],\n",
       "        ...,\n",
       "        [ 70,  60,  59],\n",
       "        [ 69,  59,  58],\n",
       "        [ 68,  58,  57]],\n",
       "\n",
       "       [[ 83,  61,  40],\n",
       "        [ 83,  61,  40],\n",
       "        [ 83,  61,  40],\n",
       "        ...,\n",
       "        [ 69,  59,  58],\n",
       "        [ 67,  57,  56],\n",
       "        [ 66,  56,  55]],\n",
       "\n",
       "       [[ 83,  61,  38],\n",
       "        [ 83,  61,  40],\n",
       "        [ 82,  60,  39],\n",
       "        ...,\n",
       "        [ 68,  58,  57],\n",
       "        [ 66,  56,  55],\n",
       "        [ 65,  55,  54]]], dtype=uint8)"
      ]
     },
     "execution_count": 8,
     "metadata": {},
     "output_type": "execute_result"
    }
   ],
   "source": [
    "unknown_image"
   ]
  },
  {
   "cell_type": "code",
   "execution_count": null,
   "metadata": {},
   "outputs": [],
   "source": []
  },
  {
   "cell_type": "code",
   "execution_count": null,
   "metadata": {},
   "outputs": [],
   "source": []
  },
  {
   "cell_type": "code",
   "execution_count": null,
   "metadata": {},
   "outputs": [],
   "source": []
  },
  {
   "cell_type": "code",
   "execution_count": null,
   "metadata": {},
   "outputs": [],
   "source": []
  }
 ],
 "metadata": {
  "kernelspec": {
   "display_name": "Python 3",
   "language": "python",
   "name": "python3"
  },
  "language_info": {
   "codemirror_mode": {
    "name": "ipython",
    "version": 3
   },
   "file_extension": ".py",
   "mimetype": "text/x-python",
   "name": "python",
   "nbconvert_exporter": "python",
   "pygments_lexer": "ipython3",
   "version": "3.7.0"
  }
 },
 "nbformat": 4,
 "nbformat_minor": 2
}
